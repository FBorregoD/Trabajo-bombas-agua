{
 "cells": [
  {
   "cell_type": "code",
   "execution_count": 7,
   "metadata": {},
   "outputs": [],
   "source": [
    "import joblib\n",
    "import numpy as np\n",
    "import pandas as pd\n"
   ]
  },
  {
   "cell_type": "code",
   "execution_count": 8,
   "metadata": {},
   "outputs": [],
   "source": [
    "import joblib\n",
    "import numpy as np\n",
    "import pandas as pd\n",
    "\n",
    "from sklearn.model_selection import train_test_split\n",
    "from sklearn.pipeline import make_pipeline\n",
    "from sklearn.metrics import accuracy_score\n",
    "from sklearn.metrics import f1_score\n",
    "from sklearn.metrics import recall_score\n",
    "from sklearn.metrics import precision_score\n",
    "from sklearn.metrics import classification_report\n",
    "\n",
    "from sklearn.preprocessing import StandardScaler\n",
    "\n",
    "\n",
    "from sklearn.linear_model import LogisticRegression\n",
    "from sklearn.neighbors import KNeighborsClassifier\n",
    "from sklearn.svm import SVC\n",
    "from sklearn.tree import DecisionTreeClassifier\n",
    "from sklearn.ensemble import RandomForestClassifier, ExtraTreesClassifier\n",
    "from sklearn.neural_network import MLPClassifier\n",
    "from xgboost import XGBClassifier\n",
    "\n",
    "\n",
    "\n",
    "from sklearn.pipeline import Pipeline\n",
    "from sklearn.model_selection import GridSearchCV\n",
    "\n"
   ]
  },
  {
   "cell_type": "code",
   "execution_count": 9,
   "metadata": {},
   "outputs": [],
   "source": [
    "ruta='datos/'\n",
    "df_train_three=joblib.load(ruta+'df_train_datos2.pkl')\n",
    "df_xtest_three=joblib.load(ruta+'df_xtest_datos2.pkl')\n",
    "\n",
    "\n",
    "\n",
    "X=df_train_three.loc[:,~df_train_three.columns.isin(['target_duo', 'target_trio'])]\n",
    "X_real_test=df_xtest_three.loc[:,~df_xtest_three.columns.isin(['target_duo', 'target_trio'])]\n",
    "y2=df_train_three.loc[:,df_train_three.columns.isin(['target_duo'])]\n",
    "y3=df_train_three.loc[:,df_train_three.columns.isin(['target_trio'])]\n",
    "\n",
    "\n",
    "test_size=0.8\n",
    "random_state=1000\n",
    "X_train2, X_test2, y_train2, y_test2 = train_test_split(X, y2, \\\n",
    "    test_size=test_size, random_state=random_state)\n",
    "X_train3, X_test3, y_train3, y_test3 = train_test_split(X, y3, \\\n",
    "    test_size=test_size, random_state=random_state)"
   ]
  },
  {
   "cell_type": "code",
   "execution_count": 10,
   "metadata": {},
   "outputs": [],
   "source": [
    "\n",
    "log_reg = LogisticRegression(random_state=random_state)\n",
    "knn = KNeighborsClassifier()\n",
    "svm = SVC(random_state=random_state)\n",
    "mlp = MLPClassifier(max_iter=500,random_state=random_state)\n",
    "rf = RandomForestClassifier(random_state=random_state)\n",
    "dt=DecisionTreeClassifier(random_state=random_state)\n",
    "xgb = XGBClassifier(random_state=random_state, verbosity=0)\n",
    "\n",
    "log_reg_params = {'classifier__C': [0.1, 1, 10]}\n",
    "\n",
    "xgb_params = {\n",
    "    'classifier__learning_rate': [0.05, 0.1, 0.2],\n",
    "    'classifier__max_depth': [1, 2, 3, 5, 8],\n",
    "    'classifier__reg_lambda': [0, 1, 10],\n",
    "}\n",
    "\n",
    "nb_params={\n",
    "    'classifier__var_smoothing': np.linspace(-9,0,num=10).astype(int)\n",
    "}\n",
    "\n",
    "knn_params={\n",
    "    \"classifier__n_neighbors\":[3,5,7,9,11],\n",
    "    \"classifier__weights\":['uniform','distance']\n",
    "}\n",
    "\n",
    "# no se usa, demasiado lento\n",
    "mlp_params = {\n",
    "    'classifier__hidden_layer_sizes': [(150,100,50), (100,50,30)],\n",
    "    'classifier__activation': ['tanh', 'relu'],\n",
    "    'classifier__solver': ['sgd', 'adam'],\n",
    "    'classifier__alpha': [0.0001, 0.05],\n",
    "}\n",
    "\n",
    "\n",
    "dt_params={}\n",
    "\n",
    "rf_params={\n",
    "    'classifier__n_estimators':np.linspace(100,900,9).astype(int),\n",
    "    'classifier__criterion':['gini', 'entropy'],\n",
    "    'classifier__min_samples_leaf': [1, 2, 3, 4],\n",
    "}\n",
    "\n",
    "svm_params={\n",
    "    'classifier__C': [0.1, 1, 10, 100],\n",
    "    'classifier__gamma': [1, 0.1, 0.01, 0.001, 0.0001],\n",
    "    'classifier__kernel': ['rbf']\n",
    "}\n",
    "\n",
    "clfs = [\n",
    "        ('Logistic Regression', log_reg,log_reg_params), \n",
    "        ('K-Nearest Neighbors', knn,knn_params), \n",
    "        ('SVM', svm,svm_params), \n",
    "        #('MLP', mlp,mlp_params), \n",
    "        ('Decission Tree', dt,dt_params),\n",
    "        ('Random Forest', rf,rf_params), \n",
    "        ('XGBoost', xgb,xgb_params)\n",
    "        ]\n",
    "\n"
   ]
  },
  {
   "cell_type": "code",
   "execution_count": 11,
   "metadata": {},
   "outputs": [
    {
     "name": "stdout",
     "output_type": "stream",
     "text": [
      "Logistic Regression\n",
      "LogisticRegression(random_state=1000)\n",
      "{'classifier__C': [0.1, 1, 10]}\n",
      "Fitting 5 folds for each of 3 candidates, totalling 15 fits\n",
      "[CV 1/5] END .................classifier__C=0.1;, score=0.699 total time=   0.1s\n",
      "[CV 2/5] END .................classifier__C=0.1;, score=0.717 total time=   0.0s\n",
      "[CV 3/5] END .................classifier__C=0.1;, score=0.708 total time=   0.0s\n",
      "[CV 4/5] END .................classifier__C=0.1;, score=0.707 total time=   0.0s\n",
      "[CV 5/5] END .................classifier__C=0.1;, score=0.716 total time=   0.0s\n",
      "[CV 1/5] END ...................classifier__C=1;, score=0.699 total time=   0.1s\n",
      "[CV 2/5] END ...................classifier__C=1;, score=0.717 total time=   0.0s\n",
      "[CV 3/5] END ...................classifier__C=1;, score=0.708 total time=   0.0s\n",
      "[CV 4/5] END ...................classifier__C=1;, score=0.707 total time=   0.0s\n",
      "[CV 5/5] END ...................classifier__C=1;, score=0.716 total time=   0.1s\n",
      "[CV 1/5] END ..................classifier__C=10;, score=0.699 total time=   0.1s\n",
      "[CV 2/5] END ..................classifier__C=10;, score=0.717 total time=   0.1s\n",
      "[CV 3/5] END ..................classifier__C=10;, score=0.708 total time=   0.1s\n",
      "[CV 4/5] END ..................classifier__C=10;, score=0.707 total time=   0.0s\n",
      "[CV 5/5] END ..................classifier__C=10;, score=0.716 total time=   0.1s\n",
      "fit realizado con clasificador Logistic Regression\n",
      "K-Nearest Neighbors\n",
      "KNeighborsClassifier()\n",
      "{'classifier__n_neighbors': [3, 5, 7, 9, 11], 'classifier__weights': ['uniform', 'distance']}\n",
      "Fitting 5 folds for each of 10 candidates, totalling 50 fits\n",
      "[CV 1/5] END classifier__n_neighbors=3, classifier__weights=uniform;, score=0.723 total time=   0.3s\n",
      "[CV 2/5] END classifier__n_neighbors=3, classifier__weights=uniform;, score=0.711 total time=   0.1s\n",
      "[CV 3/5] END classifier__n_neighbors=3, classifier__weights=uniform;, score=0.718 total time=   0.1s\n",
      "[CV 4/5] END classifier__n_neighbors=3, classifier__weights=uniform;, score=0.731 total time=   0.1s\n",
      "[CV 5/5] END classifier__n_neighbors=3, classifier__weights=uniform;, score=0.724 total time=   0.1s\n",
      "[CV 1/5] END classifier__n_neighbors=3, classifier__weights=distance;, score=0.718 total time=   0.0s\n",
      "[CV 2/5] END classifier__n_neighbors=3, classifier__weights=distance;, score=0.707 total time=   0.0s\n",
      "[CV 3/5] END classifier__n_neighbors=3, classifier__weights=distance;, score=0.712 total time=   0.0s\n",
      "[CV 4/5] END classifier__n_neighbors=3, classifier__weights=distance;, score=0.716 total time=   0.0s\n",
      "[CV 5/5] END classifier__n_neighbors=3, classifier__weights=distance;, score=0.721 total time=   0.0s\n",
      "[CV 1/5] END classifier__n_neighbors=5, classifier__weights=uniform;, score=0.717 total time=   0.1s\n",
      "[CV 2/5] END classifier__n_neighbors=5, classifier__weights=uniform;, score=0.719 total time=   0.1s\n",
      "[CV 3/5] END classifier__n_neighbors=5, classifier__weights=uniform;, score=0.719 total time=   0.1s\n",
      "[CV 4/5] END classifier__n_neighbors=5, classifier__weights=uniform;, score=0.729 total time=   0.1s\n",
      "[CV 5/5] END classifier__n_neighbors=5, classifier__weights=uniform;, score=0.726 total time=   0.1s\n",
      "[CV 1/5] END classifier__n_neighbors=5, classifier__weights=distance;, score=0.719 total time=   0.0s\n",
      "[CV 2/5] END classifier__n_neighbors=5, classifier__weights=distance;, score=0.722 total time=   0.0s\n",
      "[CV 3/5] END classifier__n_neighbors=5, classifier__weights=distance;, score=0.715 total time=   0.0s\n",
      "[CV 4/5] END classifier__n_neighbors=5, classifier__weights=distance;, score=0.729 total time=   0.0s\n",
      "[CV 5/5] END classifier__n_neighbors=5, classifier__weights=distance;, score=0.732 total time=   0.0s\n",
      "[CV 1/5] END classifier__n_neighbors=7, classifier__weights=uniform;, score=0.728 total time=   0.1s\n",
      "[CV 2/5] END classifier__n_neighbors=7, classifier__weights=uniform;, score=0.724 total time=   0.1s\n",
      "[CV 3/5] END classifier__n_neighbors=7, classifier__weights=uniform;, score=0.722 total time=   0.1s\n",
      "[CV 4/5] END classifier__n_neighbors=7, classifier__weights=uniform;, score=0.721 total time=   0.1s\n",
      "[CV 5/5] END classifier__n_neighbors=7, classifier__weights=uniform;, score=0.731 total time=   0.1s\n",
      "[CV 1/5] END classifier__n_neighbors=7, classifier__weights=distance;, score=0.726 total time=   0.0s\n",
      "[CV 2/5] END classifier__n_neighbors=7, classifier__weights=distance;, score=0.725 total time=   0.0s\n",
      "[CV 3/5] END classifier__n_neighbors=7, classifier__weights=distance;, score=0.729 total time=   0.0s\n",
      "[CV 4/5] END classifier__n_neighbors=7, classifier__weights=distance;, score=0.731 total time=   0.0s\n",
      "[CV 5/5] END classifier__n_neighbors=7, classifier__weights=distance;, score=0.735 total time=   0.0s\n",
      "[CV 1/5] END classifier__n_neighbors=9, classifier__weights=uniform;, score=0.723 total time=   0.1s\n",
      "[CV 2/5] END classifier__n_neighbors=9, classifier__weights=uniform;, score=0.731 total time=   0.1s\n",
      "[CV 3/5] END classifier__n_neighbors=9, classifier__weights=uniform;, score=0.727 total time=   0.1s\n",
      "[CV 4/5] END classifier__n_neighbors=9, classifier__weights=uniform;, score=0.728 total time=   0.1s\n",
      "[CV 5/5] END classifier__n_neighbors=9, classifier__weights=uniform;, score=0.730 total time=   0.1s\n",
      "[CV 1/5] END classifier__n_neighbors=9, classifier__weights=distance;, score=0.730 total time=   0.0s\n",
      "[CV 2/5] END classifier__n_neighbors=9, classifier__weights=distance;, score=0.728 total time=   0.0s\n",
      "[CV 3/5] END classifier__n_neighbors=9, classifier__weights=distance;, score=0.733 total time=   0.0s\n",
      "[CV 4/5] END classifier__n_neighbors=9, classifier__weights=distance;, score=0.734 total time=   0.0s\n",
      "[CV 5/5] END classifier__n_neighbors=9, classifier__weights=distance;, score=0.742 total time=   0.0s\n",
      "[CV 1/5] END classifier__n_neighbors=11, classifier__weights=uniform;, score=0.719 total time=   0.1s\n",
      "[CV 2/5] END classifier__n_neighbors=11, classifier__weights=uniform;, score=0.734 total time=   0.1s\n",
      "[CV 3/5] END classifier__n_neighbors=11, classifier__weights=uniform;, score=0.721 total time=   0.1s\n",
      "[CV 4/5] END classifier__n_neighbors=11, classifier__weights=uniform;, score=0.716 total time=   0.1s\n",
      "[CV 5/5] END classifier__n_neighbors=11, classifier__weights=uniform;, score=0.731 total time=   0.1s\n",
      "[CV 1/5] END classifier__n_neighbors=11, classifier__weights=distance;, score=0.733 total time=   0.0s\n",
      "[CV 2/5] END classifier__n_neighbors=11, classifier__weights=distance;, score=0.736 total time=   0.0s\n",
      "[CV 3/5] END classifier__n_neighbors=11, classifier__weights=distance;, score=0.732 total time=   0.0s\n",
      "[CV 4/5] END classifier__n_neighbors=11, classifier__weights=distance;, score=0.730 total time=   0.0s\n",
      "[CV 5/5] END classifier__n_neighbors=11, classifier__weights=distance;, score=0.739 total time=   0.0s\n",
      "fit realizado con clasificador K-Nearest Neighbors\n",
      "SVM\n",
      "SVC(random_state=1000)\n",
      "{'classifier__C': [0.1, 1, 10, 100], 'classifier__gamma': [1, 0.1, 0.01, 0.001, 0.0001], 'classifier__kernel': ['rbf']}\n",
      "Fitting 5 folds for each of 20 candidates, totalling 100 fits\n",
      "[CV 1/5] END classifier__C=0.1, classifier__gamma=1, classifier__kernel=rbf;, score=0.686 total time=   7.7s\n",
      "[CV 2/5] END classifier__C=0.1, classifier__gamma=1, classifier__kernel=rbf;, score=0.693 total time=   7.6s\n",
      "[CV 3/5] END classifier__C=0.1, classifier__gamma=1, classifier__kernel=rbf;, score=0.699 total time=   7.6s\n",
      "[CV 4/5] END classifier__C=0.1, classifier__gamma=1, classifier__kernel=rbf;, score=0.694 total time=   7.6s\n",
      "[CV 5/5] END classifier__C=0.1, classifier__gamma=1, classifier__kernel=rbf;, score=0.701 total time=   7.6s\n",
      "[CV 1/5] END classifier__C=0.1, classifier__gamma=0.1, classifier__kernel=rbf;, score=0.706 total time=   5.7s\n",
      "[CV 2/5] END classifier__C=0.1, classifier__gamma=0.1, classifier__kernel=rbf;, score=0.718 total time=   5.8s\n",
      "[CV 3/5] END classifier__C=0.1, classifier__gamma=0.1, classifier__kernel=rbf;, score=0.711 total time=   5.7s\n",
      "[CV 4/5] END classifier__C=0.1, classifier__gamma=0.1, classifier__kernel=rbf;, score=0.718 total time=   5.8s\n",
      "[CV 5/5] END classifier__C=0.1, classifier__gamma=0.1, classifier__kernel=rbf;, score=0.721 total time=   5.8s\n",
      "[CV 1/5] END classifier__C=0.1, classifier__gamma=0.01, classifier__kernel=rbf;, score=0.702 total time=   5.3s\n",
      "[CV 2/5] END classifier__C=0.1, classifier__gamma=0.01, classifier__kernel=rbf;, score=0.705 total time=   5.3s\n",
      "[CV 3/5] END classifier__C=0.1, classifier__gamma=0.01, classifier__kernel=rbf;, score=0.704 total time=   5.3s\n",
      "[CV 4/5] END classifier__C=0.1, classifier__gamma=0.01, classifier__kernel=rbf;, score=0.702 total time=   5.3s\n",
      "[CV 5/5] END classifier__C=0.1, classifier__gamma=0.01, classifier__kernel=rbf;, score=0.700 total time=   5.6s\n",
      "[CV 1/5] END classifier__C=0.1, classifier__gamma=0.001, classifier__kernel=rbf;, score=0.693 total time=   6.6s\n",
      "[CV 2/5] END classifier__C=0.1, classifier__gamma=0.001, classifier__kernel=rbf;, score=0.701 total time=   6.5s\n",
      "[CV 3/5] END classifier__C=0.1, classifier__gamma=0.001, classifier__kernel=rbf;, score=0.693 total time=   6.6s\n",
      "[CV 4/5] END classifier__C=0.1, classifier__gamma=0.001, classifier__kernel=rbf;, score=0.700 total time=   6.4s\n",
      "[CV 5/5] END classifier__C=0.1, classifier__gamma=0.001, classifier__kernel=rbf;, score=0.696 total time=   6.3s\n",
      "[CV 1/5] END classifier__C=0.1, classifier__gamma=0.0001, classifier__kernel=rbf;, score=0.538 total time=   6.9s\n",
      "[CV 2/5] END classifier__C=0.1, classifier__gamma=0.0001, classifier__kernel=rbf;, score=0.538 total time=   7.1s\n",
      "[CV 3/5] END classifier__C=0.1, classifier__gamma=0.0001, classifier__kernel=rbf;, score=0.538 total time=   7.1s\n",
      "[CV 4/5] END classifier__C=0.1, classifier__gamma=0.0001, classifier__kernel=rbf;, score=0.537 total time=   7.1s\n",
      "[CV 5/5] END classifier__C=0.1, classifier__gamma=0.0001, classifier__kernel=rbf;, score=0.538 total time=   7.1s\n",
      "[CV 1/5] END classifier__C=1, classifier__gamma=1, classifier__kernel=rbf;, score=0.724 total time=   7.3s\n",
      "[CV 2/5] END classifier__C=1, classifier__gamma=1, classifier__kernel=rbf;, score=0.726 total time=   7.3s\n",
      "[CV 3/5] END classifier__C=1, classifier__gamma=1, classifier__kernel=rbf;, score=0.732 total time=   7.3s\n",
      "[CV 4/5] END classifier__C=1, classifier__gamma=1, classifier__kernel=rbf;, score=0.721 total time=   7.3s\n",
      "[CV 5/5] END classifier__C=1, classifier__gamma=1, classifier__kernel=rbf;, score=0.728 total time=   7.4s\n",
      "[CV 1/5] END classifier__C=1, classifier__gamma=0.1, classifier__kernel=rbf;, score=0.716 total time=   5.8s\n",
      "[CV 2/5] END classifier__C=1, classifier__gamma=0.1, classifier__kernel=rbf;, score=0.730 total time=   5.9s\n",
      "[CV 3/5] END classifier__C=1, classifier__gamma=0.1, classifier__kernel=rbf;, score=0.722 total time=   6.0s\n",
      "[CV 4/5] END classifier__C=1, classifier__gamma=0.1, classifier__kernel=rbf;, score=0.728 total time=   6.0s\n",
      "[CV 5/5] END classifier__C=1, classifier__gamma=0.1, classifier__kernel=rbf;, score=0.731 total time=   6.4s\n",
      "[CV 1/5] END classifier__C=1, classifier__gamma=0.01, classifier__kernel=rbf;, score=0.712 total time=   5.7s\n",
      "[CV 2/5] END classifier__C=1, classifier__gamma=0.01, classifier__kernel=rbf;, score=0.716 total time=   5.7s\n",
      "[CV 3/5] END classifier__C=1, classifier__gamma=0.01, classifier__kernel=rbf;, score=0.706 total time=   5.6s\n",
      "[CV 4/5] END classifier__C=1, classifier__gamma=0.01, classifier__kernel=rbf;, score=0.717 total time=   9.5s\n",
      "[CV 5/5] END classifier__C=1, classifier__gamma=0.01, classifier__kernel=rbf;, score=0.714 total time=   6.6s\n",
      "[CV 1/5] END classifier__C=1, classifier__gamma=0.001, classifier__kernel=rbf;, score=0.694 total time=   5.6s\n",
      "[CV 2/5] END classifier__C=1, classifier__gamma=0.001, classifier__kernel=rbf;, score=0.698 total time=   5.5s\n",
      "[CV 3/5] END classifier__C=1, classifier__gamma=0.001, classifier__kernel=rbf;, score=0.693 total time=   5.9s\n",
      "[CV 4/5] END classifier__C=1, classifier__gamma=0.001, classifier__kernel=rbf;, score=0.699 total time=   5.5s\n",
      "[CV 5/5] END classifier__C=1, classifier__gamma=0.001, classifier__kernel=rbf;, score=0.698 total time=   5.7s\n",
      "[CV 1/5] END classifier__C=1, classifier__gamma=0.0001, classifier__kernel=rbf;, score=0.694 total time=   6.6s\n",
      "[CV 2/5] END classifier__C=1, classifier__gamma=0.0001, classifier__kernel=rbf;, score=0.699 total time=   6.4s\n",
      "[CV 3/5] END classifier__C=1, classifier__gamma=0.0001, classifier__kernel=rbf;, score=0.694 total time=   6.2s\n",
      "[CV 4/5] END classifier__C=1, classifier__gamma=0.0001, classifier__kernel=rbf;, score=0.700 total time=   6.0s\n",
      "[CV 5/5] END classifier__C=1, classifier__gamma=0.0001, classifier__kernel=rbf;, score=0.697 total time=   6.0s\n",
      "[CV 1/5] END classifier__C=10, classifier__gamma=1, classifier__kernel=rbf;, score=0.713 total time=   7.5s\n",
      "[CV 2/5] END classifier__C=10, classifier__gamma=1, classifier__kernel=rbf;, score=0.713 total time=   7.5s\n",
      "[CV 3/5] END classifier__C=10, classifier__gamma=1, classifier__kernel=rbf;, score=0.719 total time=   7.4s\n",
      "[CV 4/5] END classifier__C=10, classifier__gamma=1, classifier__kernel=rbf;, score=0.713 total time=   7.7s\n",
      "[CV 5/5] END classifier__C=10, classifier__gamma=1, classifier__kernel=rbf;, score=0.719 total time=   7.5s\n",
      "[CV 1/5] END classifier__C=10, classifier__gamma=0.1, classifier__kernel=rbf;, score=0.730 total time=   6.2s\n",
      "[CV 2/5] END classifier__C=10, classifier__gamma=0.1, classifier__kernel=rbf;, score=0.737 total time=   6.0s\n",
      "[CV 3/5] END classifier__C=10, classifier__gamma=0.1, classifier__kernel=rbf;, score=0.738 total time=   6.0s\n",
      "[CV 4/5] END classifier__C=10, classifier__gamma=0.1, classifier__kernel=rbf;, score=0.732 total time=   6.2s\n",
      "[CV 5/5] END classifier__C=10, classifier__gamma=0.1, classifier__kernel=rbf;, score=0.733 total time=   6.5s\n",
      "[CV 1/5] END classifier__C=10, classifier__gamma=0.01, classifier__kernel=rbf;, score=0.712 total time=   6.3s\n",
      "[CV 2/5] END classifier__C=10, classifier__gamma=0.01, classifier__kernel=rbf;, score=0.723 total time=   6.6s\n",
      "[CV 3/5] END classifier__C=10, classifier__gamma=0.01, classifier__kernel=rbf;, score=0.716 total time=   6.4s\n",
      "[CV 4/5] END classifier__C=10, classifier__gamma=0.01, classifier__kernel=rbf;, score=0.722 total time=   6.4s\n",
      "[CV 5/5] END classifier__C=10, classifier__gamma=0.01, classifier__kernel=rbf;, score=0.723 total time=   6.5s\n",
      "[CV 1/5] END classifier__C=10, classifier__gamma=0.001, classifier__kernel=rbf;, score=0.702 total time=   5.6s\n",
      "[CV 2/5] END classifier__C=10, classifier__gamma=0.001, classifier__kernel=rbf;, score=0.707 total time=   5.8s\n",
      "[CV 3/5] END classifier__C=10, classifier__gamma=0.001, classifier__kernel=rbf;, score=0.691 total time=   5.7s\n",
      "[CV 4/5] END classifier__C=10, classifier__gamma=0.001, classifier__kernel=rbf;, score=0.705 total time=   5.9s\n",
      "[CV 5/5] END classifier__C=10, classifier__gamma=0.001, classifier__kernel=rbf;, score=0.700 total time=   5.8s\n",
      "[CV 1/5] END classifier__C=10, classifier__gamma=0.0001, classifier__kernel=rbf;, score=0.693 total time=   5.2s\n",
      "[CV 2/5] END classifier__C=10, classifier__gamma=0.0001, classifier__kernel=rbf;, score=0.698 total time=   5.1s\n",
      "[CV 3/5] END classifier__C=10, classifier__gamma=0.0001, classifier__kernel=rbf;, score=0.686 total time=   5.2s\n",
      "[CV 4/5] END classifier__C=10, classifier__gamma=0.0001, classifier__kernel=rbf;, score=0.699 total time=   5.1s\n",
      "[CV 5/5] END classifier__C=10, classifier__gamma=0.0001, classifier__kernel=rbf;, score=0.699 total time=   5.1s\n",
      "[CV 1/5] END classifier__C=100, classifier__gamma=1, classifier__kernel=rbf;, score=0.707 total time=  11.3s\n",
      "[CV 2/5] END classifier__C=100, classifier__gamma=1, classifier__kernel=rbf;, score=0.698 total time=  10.6s\n",
      "[CV 3/5] END classifier__C=100, classifier__gamma=1, classifier__kernel=rbf;, score=0.709 total time=  11.1s\n",
      "[CV 4/5] END classifier__C=100, classifier__gamma=1, classifier__kernel=rbf;, score=0.703 total time=  12.2s\n",
      "[CV 5/5] END classifier__C=100, classifier__gamma=1, classifier__kernel=rbf;, score=0.715 total time=  12.1s\n",
      "[CV 1/5] END classifier__C=100, classifier__gamma=0.1, classifier__kernel=rbf;, score=0.723 total time=  10.4s\n",
      "[CV 2/5] END classifier__C=100, classifier__gamma=0.1, classifier__kernel=rbf;, score=0.728 total time=   9.8s\n",
      "[CV 3/5] END classifier__C=100, classifier__gamma=0.1, classifier__kernel=rbf;, score=0.735 total time=   9.5s\n",
      "[CV 4/5] END classifier__C=100, classifier__gamma=0.1, classifier__kernel=rbf;, score=0.716 total time=  10.6s\n",
      "[CV 5/5] END classifier__C=100, classifier__gamma=0.1, classifier__kernel=rbf;, score=0.732 total time=   9.9s\n",
      "[CV 1/5] END classifier__C=100, classifier__gamma=0.01, classifier__kernel=rbf;, score=0.718 total time=  11.6s\n",
      "[CV 2/5] END classifier__C=100, classifier__gamma=0.01, classifier__kernel=rbf;, score=0.730 total time=  12.0s\n",
      "[CV 3/5] END classifier__C=100, classifier__gamma=0.01, classifier__kernel=rbf;, score=0.717 total time=  11.1s\n",
      "[CV 4/5] END classifier__C=100, classifier__gamma=0.01, classifier__kernel=rbf;, score=0.726 total time=  10.0s\n",
      "[CV 5/5] END classifier__C=100, classifier__gamma=0.01, classifier__kernel=rbf;, score=0.729 total time=  11.3s\n",
      "[CV 1/5] END classifier__C=100, classifier__gamma=0.001, classifier__kernel=rbf;, score=0.712 total time=   8.0s\n",
      "[CV 2/5] END classifier__C=100, classifier__gamma=0.001, classifier__kernel=rbf;, score=0.716 total time=   9.2s\n",
      "[CV 3/5] END classifier__C=100, classifier__gamma=0.001, classifier__kernel=rbf;, score=0.706 total time=   8.3s\n",
      "[CV 4/5] END classifier__C=100, classifier__gamma=0.001, classifier__kernel=rbf;, score=0.718 total time=   8.2s\n",
      "[CV 5/5] END classifier__C=100, classifier__gamma=0.001, classifier__kernel=rbf;, score=0.714 total time=   9.2s\n",
      "[CV 1/5] END classifier__C=100, classifier__gamma=0.0001, classifier__kernel=rbf;, score=0.694 total time=   7.1s\n",
      "[CV 2/5] END classifier__C=100, classifier__gamma=0.0001, classifier__kernel=rbf;, score=0.699 total time=   6.9s\n",
      "[CV 3/5] END classifier__C=100, classifier__gamma=0.0001, classifier__kernel=rbf;, score=0.690 total time=   7.1s\n",
      "[CV 4/5] END classifier__C=100, classifier__gamma=0.0001, classifier__kernel=rbf;, score=0.702 total time=   6.9s\n",
      "[CV 5/5] END classifier__C=100, classifier__gamma=0.0001, classifier__kernel=rbf;, score=0.699 total time=   6.9s\n",
      "fit realizado con clasificador SVM\n",
      "MLP\n",
      "MLPClassifier(max_iter=500, random_state=1000)\n",
      "{'classifier__hidden_layer_sizes': [(150, 100, 50), (100, 50, 30)], 'classifier__activation': ['tanh', 'relu'], 'classifier__solver': ['sgd', 'adam'], 'classifier__alpha': [0.0001, 0.05]}\n",
      "Fitting 5 folds for each of 16 candidates, totalling 80 fits\n"
     ]
    },
    {
     "name": "stderr",
     "output_type": "stream",
     "text": [
      "C:\\Users\\Rucufuto\\AppData\\Local\\Packages\\PythonSoftwareFoundation.Python.3.9_qbz5n2kfra8p0\\LocalCache\\local-packages\\Python39\\site-packages\\sklearn\\neural_network\\_multilayer_perceptron.py:702: ConvergenceWarning: Stochastic Optimizer: Maximum iterations (500) reached and the optimization hasn't converged yet.\n",
      "  warnings.warn(\n"
     ]
    },
    {
     "name": "stdout",
     "output_type": "stream",
     "text": [
      "[CV 1/5] END classifier__activation=tanh, classifier__alpha=0.0001, classifier__hidden_layer_sizes=(150, 100, 50), classifier__solver=sgd;, score=0.727 total time= 1.9min\n"
     ]
    },
    {
     "name": "stderr",
     "output_type": "stream",
     "text": [
      "C:\\Users\\Rucufuto\\AppData\\Local\\Packages\\PythonSoftwareFoundation.Python.3.9_qbz5n2kfra8p0\\LocalCache\\local-packages\\Python39\\site-packages\\sklearn\\neural_network\\_multilayer_perceptron.py:702: ConvergenceWarning: Stochastic Optimizer: Maximum iterations (500) reached and the optimization hasn't converged yet.\n",
      "  warnings.warn(\n"
     ]
    },
    {
     "name": "stdout",
     "output_type": "stream",
     "text": [
      "[CV 2/5] END classifier__activation=tanh, classifier__alpha=0.0001, classifier__hidden_layer_sizes=(150, 100, 50), classifier__solver=sgd;, score=0.723 total time= 1.8min\n"
     ]
    },
    {
     "name": "stderr",
     "output_type": "stream",
     "text": [
      "C:\\Users\\Rucufuto\\AppData\\Local\\Packages\\PythonSoftwareFoundation.Python.3.9_qbz5n2kfra8p0\\LocalCache\\local-packages\\Python39\\site-packages\\sklearn\\neural_network\\_multilayer_perceptron.py:702: ConvergenceWarning: Stochastic Optimizer: Maximum iterations (500) reached and the optimization hasn't converged yet.\n",
      "  warnings.warn(\n"
     ]
    },
    {
     "name": "stdout",
     "output_type": "stream",
     "text": [
      "[CV 3/5] END classifier__activation=tanh, classifier__alpha=0.0001, classifier__hidden_layer_sizes=(150, 100, 50), classifier__solver=sgd;, score=0.735 total time= 1.8min\n"
     ]
    },
    {
     "name": "stderr",
     "output_type": "stream",
     "text": [
      "C:\\Users\\Rucufuto\\AppData\\Local\\Packages\\PythonSoftwareFoundation.Python.3.9_qbz5n2kfra8p0\\LocalCache\\local-packages\\Python39\\site-packages\\sklearn\\neural_network\\_multilayer_perceptron.py:702: ConvergenceWarning: Stochastic Optimizer: Maximum iterations (500) reached and the optimization hasn't converged yet.\n",
      "  warnings.warn(\n"
     ]
    },
    {
     "name": "stdout",
     "output_type": "stream",
     "text": [
      "[CV 4/5] END classifier__activation=tanh, classifier__alpha=0.0001, classifier__hidden_layer_sizes=(150, 100, 50), classifier__solver=sgd;, score=0.729 total time= 1.8min\n"
     ]
    },
    {
     "name": "stderr",
     "output_type": "stream",
     "text": [
      "C:\\Users\\Rucufuto\\AppData\\Local\\Packages\\PythonSoftwareFoundation.Python.3.9_qbz5n2kfra8p0\\LocalCache\\local-packages\\Python39\\site-packages\\sklearn\\neural_network\\_multilayer_perceptron.py:702: ConvergenceWarning: Stochastic Optimizer: Maximum iterations (500) reached and the optimization hasn't converged yet.\n",
      "  warnings.warn(\n"
     ]
    },
    {
     "name": "stdout",
     "output_type": "stream",
     "text": [
      "[CV 5/5] END classifier__activation=tanh, classifier__alpha=0.0001, classifier__hidden_layer_sizes=(150, 100, 50), classifier__solver=sgd;, score=0.739 total time= 1.8min\n"
     ]
    },
    {
     "name": "stderr",
     "output_type": "stream",
     "text": [
      "C:\\Users\\Rucufuto\\AppData\\Local\\Packages\\PythonSoftwareFoundation.Python.3.9_qbz5n2kfra8p0\\LocalCache\\local-packages\\Python39\\site-packages\\sklearn\\neural_network\\_multilayer_perceptron.py:702: ConvergenceWarning: Stochastic Optimizer: Maximum iterations (500) reached and the optimization hasn't converged yet.\n",
      "  warnings.warn(\n"
     ]
    },
    {
     "name": "stdout",
     "output_type": "stream",
     "text": [
      "[CV 1/5] END classifier__activation=tanh, classifier__alpha=0.0001, classifier__hidden_layer_sizes=(150, 100, 50), classifier__solver=adam;, score=0.710 total time= 2.0min\n",
      "[CV 2/5] END classifier__activation=tanh, classifier__alpha=0.0001, classifier__hidden_layer_sizes=(150, 100, 50), classifier__solver=adam;, score=0.697 total time= 1.9min\n"
     ]
    },
    {
     "name": "stderr",
     "output_type": "stream",
     "text": [
      "C:\\Users\\Rucufuto\\AppData\\Local\\Packages\\PythonSoftwareFoundation.Python.3.9_qbz5n2kfra8p0\\LocalCache\\local-packages\\Python39\\site-packages\\sklearn\\neural_network\\_multilayer_perceptron.py:702: ConvergenceWarning: Stochastic Optimizer: Maximum iterations (500) reached and the optimization hasn't converged yet.\n",
      "  warnings.warn(\n"
     ]
    },
    {
     "name": "stdout",
     "output_type": "stream",
     "text": [
      "[CV 3/5] END classifier__activation=tanh, classifier__alpha=0.0001, classifier__hidden_layer_sizes=(150, 100, 50), classifier__solver=adam;, score=0.709 total time= 2.0min\n"
     ]
    },
    {
     "name": "stderr",
     "output_type": "stream",
     "text": [
      "C:\\Users\\Rucufuto\\AppData\\Local\\Packages\\PythonSoftwareFoundation.Python.3.9_qbz5n2kfra8p0\\LocalCache\\local-packages\\Python39\\site-packages\\sklearn\\neural_network\\_multilayer_perceptron.py:702: ConvergenceWarning: Stochastic Optimizer: Maximum iterations (500) reached and the optimization hasn't converged yet.\n",
      "  warnings.warn(\n"
     ]
    },
    {
     "name": "stdout",
     "output_type": "stream",
     "text": [
      "[CV 4/5] END classifier__activation=tanh, classifier__alpha=0.0001, classifier__hidden_layer_sizes=(150, 100, 50), classifier__solver=adam;, score=0.698 total time= 2.1min\n",
      "[CV 5/5] END classifier__activation=tanh, classifier__alpha=0.0001, classifier__hidden_layer_sizes=(150, 100, 50), classifier__solver=adam;, score=0.715 total time= 1.9min\n"
     ]
    },
    {
     "name": "stderr",
     "output_type": "stream",
     "text": [
      "C:\\Users\\Rucufuto\\AppData\\Local\\Packages\\PythonSoftwareFoundation.Python.3.9_qbz5n2kfra8p0\\LocalCache\\local-packages\\Python39\\site-packages\\sklearn\\neural_network\\_multilayer_perceptron.py:702: ConvergenceWarning: Stochastic Optimizer: Maximum iterations (500) reached and the optimization hasn't converged yet.\n",
      "  warnings.warn(\n"
     ]
    },
    {
     "name": "stdout",
     "output_type": "stream",
     "text": [
      "[CV 1/5] END classifier__activation=tanh, classifier__alpha=0.0001, classifier__hidden_layer_sizes=(100, 50, 30), classifier__solver=sgd;, score=0.726 total time= 1.5min\n"
     ]
    },
    {
     "name": "stderr",
     "output_type": "stream",
     "text": [
      "C:\\Users\\Rucufuto\\AppData\\Local\\Packages\\PythonSoftwareFoundation.Python.3.9_qbz5n2kfra8p0\\LocalCache\\local-packages\\Python39\\site-packages\\sklearn\\neural_network\\_multilayer_perceptron.py:702: ConvergenceWarning: Stochastic Optimizer: Maximum iterations (500) reached and the optimization hasn't converged yet.\n",
      "  warnings.warn(\n"
     ]
    },
    {
     "name": "stdout",
     "output_type": "stream",
     "text": [
      "[CV 2/5] END classifier__activation=tanh, classifier__alpha=0.0001, classifier__hidden_layer_sizes=(100, 50, 30), classifier__solver=sgd;, score=0.729 total time= 1.5min\n"
     ]
    },
    {
     "name": "stderr",
     "output_type": "stream",
     "text": [
      "C:\\Users\\Rucufuto\\AppData\\Local\\Packages\\PythonSoftwareFoundation.Python.3.9_qbz5n2kfra8p0\\LocalCache\\local-packages\\Python39\\site-packages\\sklearn\\neural_network\\_multilayer_perceptron.py:702: ConvergenceWarning: Stochastic Optimizer: Maximum iterations (500) reached and the optimization hasn't converged yet.\n",
      "  warnings.warn(\n"
     ]
    },
    {
     "name": "stdout",
     "output_type": "stream",
     "text": [
      "[CV 3/5] END classifier__activation=tanh, classifier__alpha=0.0001, classifier__hidden_layer_sizes=(100, 50, 30), classifier__solver=sgd;, score=0.737 total time= 1.5min\n"
     ]
    },
    {
     "name": "stderr",
     "output_type": "stream",
     "text": [
      "C:\\Users\\Rucufuto\\AppData\\Local\\Packages\\PythonSoftwareFoundation.Python.3.9_qbz5n2kfra8p0\\LocalCache\\local-packages\\Python39\\site-packages\\sklearn\\neural_network\\_multilayer_perceptron.py:702: ConvergenceWarning: Stochastic Optimizer: Maximum iterations (500) reached and the optimization hasn't converged yet.\n",
      "  warnings.warn(\n"
     ]
    },
    {
     "name": "stdout",
     "output_type": "stream",
     "text": [
      "[CV 4/5] END classifier__activation=tanh, classifier__alpha=0.0001, classifier__hidden_layer_sizes=(100, 50, 30), classifier__solver=sgd;, score=0.730 total time= 1.5min\n"
     ]
    },
    {
     "name": "stderr",
     "output_type": "stream",
     "text": [
      "C:\\Users\\Rucufuto\\AppData\\Local\\Packages\\PythonSoftwareFoundation.Python.3.9_qbz5n2kfra8p0\\LocalCache\\local-packages\\Python39\\site-packages\\sklearn\\neural_network\\_multilayer_perceptron.py:702: ConvergenceWarning: Stochastic Optimizer: Maximum iterations (500) reached and the optimization hasn't converged yet.\n",
      "  warnings.warn(\n"
     ]
    },
    {
     "name": "stdout",
     "output_type": "stream",
     "text": [
      "[CV 5/5] END classifier__activation=tanh, classifier__alpha=0.0001, classifier__hidden_layer_sizes=(100, 50, 30), classifier__solver=sgd;, score=0.731 total time= 1.5min\n"
     ]
    },
    {
     "name": "stderr",
     "output_type": "stream",
     "text": [
      "C:\\Users\\Rucufuto\\AppData\\Local\\Packages\\PythonSoftwareFoundation.Python.3.9_qbz5n2kfra8p0\\LocalCache\\local-packages\\Python39\\site-packages\\sklearn\\neural_network\\_multilayer_perceptron.py:702: ConvergenceWarning: Stochastic Optimizer: Maximum iterations (500) reached and the optimization hasn't converged yet.\n",
      "  warnings.warn(\n"
     ]
    },
    {
     "name": "stdout",
     "output_type": "stream",
     "text": [
      "[CV 1/5] END classifier__activation=tanh, classifier__alpha=0.0001, classifier__hidden_layer_sizes=(100, 50, 30), classifier__solver=adam;, score=0.712 total time= 1.6min\n"
     ]
    },
    {
     "name": "stderr",
     "output_type": "stream",
     "text": [
      "C:\\Users\\Rucufuto\\AppData\\Local\\Packages\\PythonSoftwareFoundation.Python.3.9_qbz5n2kfra8p0\\LocalCache\\local-packages\\Python39\\site-packages\\sklearn\\neural_network\\_multilayer_perceptron.py:702: ConvergenceWarning: Stochastic Optimizer: Maximum iterations (500) reached and the optimization hasn't converged yet.\n",
      "  warnings.warn(\n"
     ]
    },
    {
     "name": "stdout",
     "output_type": "stream",
     "text": [
      "[CV 2/5] END classifier__activation=tanh, classifier__alpha=0.0001, classifier__hidden_layer_sizes=(100, 50, 30), classifier__solver=adam;, score=0.705 total time= 1.6min\n"
     ]
    },
    {
     "name": "stderr",
     "output_type": "stream",
     "text": [
      "C:\\Users\\Rucufuto\\AppData\\Local\\Packages\\PythonSoftwareFoundation.Python.3.9_qbz5n2kfra8p0\\LocalCache\\local-packages\\Python39\\site-packages\\sklearn\\neural_network\\_multilayer_perceptron.py:702: ConvergenceWarning: Stochastic Optimizer: Maximum iterations (500) reached and the optimization hasn't converged yet.\n",
      "  warnings.warn(\n"
     ]
    },
    {
     "name": "stdout",
     "output_type": "stream",
     "text": [
      "[CV 3/5] END classifier__activation=tanh, classifier__alpha=0.0001, classifier__hidden_layer_sizes=(100, 50, 30), classifier__solver=adam;, score=0.709 total time= 1.6min\n"
     ]
    },
    {
     "name": "stderr",
     "output_type": "stream",
     "text": [
      "C:\\Users\\Rucufuto\\AppData\\Local\\Packages\\PythonSoftwareFoundation.Python.3.9_qbz5n2kfra8p0\\LocalCache\\local-packages\\Python39\\site-packages\\sklearn\\neural_network\\_multilayer_perceptron.py:702: ConvergenceWarning: Stochastic Optimizer: Maximum iterations (500) reached and the optimization hasn't converged yet.\n",
      "  warnings.warn(\n"
     ]
    },
    {
     "name": "stdout",
     "output_type": "stream",
     "text": [
      "[CV 4/5] END classifier__activation=tanh, classifier__alpha=0.0001, classifier__hidden_layer_sizes=(100, 50, 30), classifier__solver=adam;, score=0.715 total time= 1.6min\n"
     ]
    },
    {
     "name": "stderr",
     "output_type": "stream",
     "text": [
      "C:\\Users\\Rucufuto\\AppData\\Local\\Packages\\PythonSoftwareFoundation.Python.3.9_qbz5n2kfra8p0\\LocalCache\\local-packages\\Python39\\site-packages\\sklearn\\neural_network\\_multilayer_perceptron.py:702: ConvergenceWarning: Stochastic Optimizer: Maximum iterations (500) reached and the optimization hasn't converged yet.\n",
      "  warnings.warn(\n"
     ]
    },
    {
     "name": "stdout",
     "output_type": "stream",
     "text": [
      "[CV 5/5] END classifier__activation=tanh, classifier__alpha=0.0001, classifier__hidden_layer_sizes=(100, 50, 30), classifier__solver=adam;, score=0.721 total time= 1.6min\n"
     ]
    },
    {
     "name": "stderr",
     "output_type": "stream",
     "text": [
      "C:\\Users\\Rucufuto\\AppData\\Local\\Packages\\PythonSoftwareFoundation.Python.3.9_qbz5n2kfra8p0\\LocalCache\\local-packages\\Python39\\site-packages\\sklearn\\neural_network\\_multilayer_perceptron.py:702: ConvergenceWarning: Stochastic Optimizer: Maximum iterations (500) reached and the optimization hasn't converged yet.\n",
      "  warnings.warn(\n"
     ]
    },
    {
     "name": "stdout",
     "output_type": "stream",
     "text": [
      "[CV 1/5] END classifier__activation=tanh, classifier__alpha=0.05, classifier__hidden_layer_sizes=(150, 100, 50), classifier__solver=sgd;, score=0.728 total time= 1.8min\n"
     ]
    },
    {
     "name": "stderr",
     "output_type": "stream",
     "text": [
      "C:\\Users\\Rucufuto\\AppData\\Local\\Packages\\PythonSoftwareFoundation.Python.3.9_qbz5n2kfra8p0\\LocalCache\\local-packages\\Python39\\site-packages\\sklearn\\neural_network\\_multilayer_perceptron.py:702: ConvergenceWarning: Stochastic Optimizer: Maximum iterations (500) reached and the optimization hasn't converged yet.\n",
      "  warnings.warn(\n"
     ]
    },
    {
     "name": "stdout",
     "output_type": "stream",
     "text": [
      "[CV 2/5] END classifier__activation=tanh, classifier__alpha=0.05, classifier__hidden_layer_sizes=(150, 100, 50), classifier__solver=sgd;, score=0.724 total time= 1.8min\n"
     ]
    },
    {
     "name": "stderr",
     "output_type": "stream",
     "text": [
      "C:\\Users\\Rucufuto\\AppData\\Local\\Packages\\PythonSoftwareFoundation.Python.3.9_qbz5n2kfra8p0\\LocalCache\\local-packages\\Python39\\site-packages\\sklearn\\neural_network\\_multilayer_perceptron.py:702: ConvergenceWarning: Stochastic Optimizer: Maximum iterations (500) reached and the optimization hasn't converged yet.\n",
      "  warnings.warn(\n"
     ]
    },
    {
     "name": "stdout",
     "output_type": "stream",
     "text": [
      "[CV 3/5] END classifier__activation=tanh, classifier__alpha=0.05, classifier__hidden_layer_sizes=(150, 100, 50), classifier__solver=sgd;, score=0.735 total time= 1.8min\n"
     ]
    },
    {
     "name": "stderr",
     "output_type": "stream",
     "text": [
      "C:\\Users\\Rucufuto\\AppData\\Local\\Packages\\PythonSoftwareFoundation.Python.3.9_qbz5n2kfra8p0\\LocalCache\\local-packages\\Python39\\site-packages\\sklearn\\neural_network\\_multilayer_perceptron.py:702: ConvergenceWarning: Stochastic Optimizer: Maximum iterations (500) reached and the optimization hasn't converged yet.\n",
      "  warnings.warn(\n"
     ]
    },
    {
     "name": "stdout",
     "output_type": "stream",
     "text": [
      "[CV 4/5] END classifier__activation=tanh, classifier__alpha=0.05, classifier__hidden_layer_sizes=(150, 100, 50), classifier__solver=sgd;, score=0.730 total time= 1.8min\n"
     ]
    },
    {
     "name": "stderr",
     "output_type": "stream",
     "text": [
      "C:\\Users\\Rucufuto\\AppData\\Local\\Packages\\PythonSoftwareFoundation.Python.3.9_qbz5n2kfra8p0\\LocalCache\\local-packages\\Python39\\site-packages\\sklearn\\neural_network\\_multilayer_perceptron.py:702: ConvergenceWarning: Stochastic Optimizer: Maximum iterations (500) reached and the optimization hasn't converged yet.\n",
      "  warnings.warn(\n"
     ]
    },
    {
     "name": "stdout",
     "output_type": "stream",
     "text": [
      "[CV 5/5] END classifier__activation=tanh, classifier__alpha=0.05, classifier__hidden_layer_sizes=(150, 100, 50), classifier__solver=sgd;, score=0.739 total time= 1.8min\n",
      "[CV 1/5] END classifier__activation=tanh, classifier__alpha=0.05, classifier__hidden_layer_sizes=(150, 100, 50), classifier__solver=adam;, score=0.713 total time= 1.4min\n",
      "[CV 2/5] END classifier__activation=tanh, classifier__alpha=0.05, classifier__hidden_layer_sizes=(150, 100, 50), classifier__solver=adam;, score=0.705 total time= 1.6min\n",
      "[CV 3/5] END classifier__activation=tanh, classifier__alpha=0.05, classifier__hidden_layer_sizes=(150, 100, 50), classifier__solver=adam;, score=0.705 total time= 1.7min\n",
      "[CV 4/5] END classifier__activation=tanh, classifier__alpha=0.05, classifier__hidden_layer_sizes=(150, 100, 50), classifier__solver=adam;, score=0.706 total time= 1.6min\n",
      "[CV 5/5] END classifier__activation=tanh, classifier__alpha=0.05, classifier__hidden_layer_sizes=(150, 100, 50), classifier__solver=adam;, score=0.725 total time= 1.2min\n"
     ]
    },
    {
     "name": "stderr",
     "output_type": "stream",
     "text": [
      "C:\\Users\\Rucufuto\\AppData\\Local\\Packages\\PythonSoftwareFoundation.Python.3.9_qbz5n2kfra8p0\\LocalCache\\local-packages\\Python39\\site-packages\\sklearn\\neural_network\\_multilayer_perceptron.py:702: ConvergenceWarning: Stochastic Optimizer: Maximum iterations (500) reached and the optimization hasn't converged yet.\n",
      "  warnings.warn(\n"
     ]
    },
    {
     "name": "stdout",
     "output_type": "stream",
     "text": [
      "[CV 1/5] END classifier__activation=tanh, classifier__alpha=0.05, classifier__hidden_layer_sizes=(100, 50, 30), classifier__solver=sgd;, score=0.725 total time= 1.5min\n"
     ]
    },
    {
     "name": "stderr",
     "output_type": "stream",
     "text": [
      "C:\\Users\\Rucufuto\\AppData\\Local\\Packages\\PythonSoftwareFoundation.Python.3.9_qbz5n2kfra8p0\\LocalCache\\local-packages\\Python39\\site-packages\\sklearn\\neural_network\\_multilayer_perceptron.py:702: ConvergenceWarning: Stochastic Optimizer: Maximum iterations (500) reached and the optimization hasn't converged yet.\n",
      "  warnings.warn(\n"
     ]
    },
    {
     "name": "stdout",
     "output_type": "stream",
     "text": [
      "[CV 2/5] END classifier__activation=tanh, classifier__alpha=0.05, classifier__hidden_layer_sizes=(100, 50, 30), classifier__solver=sgd;, score=0.730 total time= 1.5min\n"
     ]
    },
    {
     "name": "stderr",
     "output_type": "stream",
     "text": [
      "C:\\Users\\Rucufuto\\AppData\\Local\\Packages\\PythonSoftwareFoundation.Python.3.9_qbz5n2kfra8p0\\LocalCache\\local-packages\\Python39\\site-packages\\sklearn\\neural_network\\_multilayer_perceptron.py:702: ConvergenceWarning: Stochastic Optimizer: Maximum iterations (500) reached and the optimization hasn't converged yet.\n",
      "  warnings.warn(\n"
     ]
    },
    {
     "name": "stdout",
     "output_type": "stream",
     "text": [
      "[CV 3/5] END classifier__activation=tanh, classifier__alpha=0.05, classifier__hidden_layer_sizes=(100, 50, 30), classifier__solver=sgd;, score=0.738 total time= 1.4min\n"
     ]
    },
    {
     "name": "stderr",
     "output_type": "stream",
     "text": [
      "C:\\Users\\Rucufuto\\AppData\\Local\\Packages\\PythonSoftwareFoundation.Python.3.9_qbz5n2kfra8p0\\LocalCache\\local-packages\\Python39\\site-packages\\sklearn\\neural_network\\_multilayer_perceptron.py:702: ConvergenceWarning: Stochastic Optimizer: Maximum iterations (500) reached and the optimization hasn't converged yet.\n",
      "  warnings.warn(\n"
     ]
    },
    {
     "name": "stdout",
     "output_type": "stream",
     "text": [
      "[CV 4/5] END classifier__activation=tanh, classifier__alpha=0.05, classifier__hidden_layer_sizes=(100, 50, 30), classifier__solver=sgd;, score=0.731 total time= 1.5min\n"
     ]
    },
    {
     "name": "stderr",
     "output_type": "stream",
     "text": [
      "C:\\Users\\Rucufuto\\AppData\\Local\\Packages\\PythonSoftwareFoundation.Python.3.9_qbz5n2kfra8p0\\LocalCache\\local-packages\\Python39\\site-packages\\sklearn\\neural_network\\_multilayer_perceptron.py:702: ConvergenceWarning: Stochastic Optimizer: Maximum iterations (500) reached and the optimization hasn't converged yet.\n",
      "  warnings.warn(\n"
     ]
    },
    {
     "name": "stdout",
     "output_type": "stream",
     "text": [
      "[CV 5/5] END classifier__activation=tanh, classifier__alpha=0.05, classifier__hidden_layer_sizes=(100, 50, 30), classifier__solver=sgd;, score=0.732 total time= 1.5min\n",
      "[CV 1/5] END classifier__activation=tanh, classifier__alpha=0.05, classifier__hidden_layer_sizes=(100, 50, 30), classifier__solver=adam;, score=0.714 total time= 1.1min\n",
      "[CV 2/5] END classifier__activation=tanh, classifier__alpha=0.05, classifier__hidden_layer_sizes=(100, 50, 30), classifier__solver=adam;, score=0.718 total time= 1.1min\n",
      "[CV 3/5] END classifier__activation=tanh, classifier__alpha=0.05, classifier__hidden_layer_sizes=(100, 50, 30), classifier__solver=adam;, score=0.745 total time= 1.3min\n",
      "[CV 4/5] END classifier__activation=tanh, classifier__alpha=0.05, classifier__hidden_layer_sizes=(100, 50, 30), classifier__solver=adam;, score=0.717 total time= 1.3min\n",
      "[CV 5/5] END classifier__activation=tanh, classifier__alpha=0.05, classifier__hidden_layer_sizes=(100, 50, 30), classifier__solver=adam;, score=0.718 total time= 1.3min\n"
     ]
    },
    {
     "name": "stderr",
     "output_type": "stream",
     "text": [
      "C:\\Users\\Rucufuto\\AppData\\Local\\Packages\\PythonSoftwareFoundation.Python.3.9_qbz5n2kfra8p0\\LocalCache\\local-packages\\Python39\\site-packages\\sklearn\\neural_network\\_multilayer_perceptron.py:702: ConvergenceWarning: Stochastic Optimizer: Maximum iterations (500) reached and the optimization hasn't converged yet.\n",
      "  warnings.warn(\n"
     ]
    },
    {
     "name": "stdout",
     "output_type": "stream",
     "text": [
      "[CV 1/5] END classifier__activation=relu, classifier__alpha=0.0001, classifier__hidden_layer_sizes=(150, 100, 50), classifier__solver=sgd;, score=0.723 total time= 1.8min\n"
     ]
    },
    {
     "name": "stderr",
     "output_type": "stream",
     "text": [
      "C:\\Users\\Rucufuto\\AppData\\Local\\Packages\\PythonSoftwareFoundation.Python.3.9_qbz5n2kfra8p0\\LocalCache\\local-packages\\Python39\\site-packages\\sklearn\\neural_network\\_multilayer_perceptron.py:702: ConvergenceWarning: Stochastic Optimizer: Maximum iterations (500) reached and the optimization hasn't converged yet.\n",
      "  warnings.warn(\n"
     ]
    },
    {
     "name": "stdout",
     "output_type": "stream",
     "text": [
      "[CV 2/5] END classifier__activation=relu, classifier__alpha=0.0001, classifier__hidden_layer_sizes=(150, 100, 50), classifier__solver=sgd;, score=0.728 total time= 1.8min\n"
     ]
    },
    {
     "name": "stderr",
     "output_type": "stream",
     "text": [
      "C:\\Users\\Rucufuto\\AppData\\Local\\Packages\\PythonSoftwareFoundation.Python.3.9_qbz5n2kfra8p0\\LocalCache\\local-packages\\Python39\\site-packages\\sklearn\\neural_network\\_multilayer_perceptron.py:702: ConvergenceWarning: Stochastic Optimizer: Maximum iterations (500) reached and the optimization hasn't converged yet.\n",
      "  warnings.warn(\n"
     ]
    },
    {
     "name": "stdout",
     "output_type": "stream",
     "text": [
      "[CV 3/5] END classifier__activation=relu, classifier__alpha=0.0001, classifier__hidden_layer_sizes=(150, 100, 50), classifier__solver=sgd;, score=0.732 total time= 1.8min\n"
     ]
    },
    {
     "name": "stderr",
     "output_type": "stream",
     "text": [
      "C:\\Users\\Rucufuto\\AppData\\Local\\Packages\\PythonSoftwareFoundation.Python.3.9_qbz5n2kfra8p0\\LocalCache\\local-packages\\Python39\\site-packages\\sklearn\\neural_network\\_multilayer_perceptron.py:702: ConvergenceWarning: Stochastic Optimizer: Maximum iterations (500) reached and the optimization hasn't converged yet.\n",
      "  warnings.warn(\n"
     ]
    },
    {
     "name": "stdout",
     "output_type": "stream",
     "text": [
      "[CV 4/5] END classifier__activation=relu, classifier__alpha=0.0001, classifier__hidden_layer_sizes=(150, 100, 50), classifier__solver=sgd;, score=0.722 total time= 1.8min\n"
     ]
    },
    {
     "name": "stderr",
     "output_type": "stream",
     "text": [
      "C:\\Users\\Rucufuto\\AppData\\Local\\Packages\\PythonSoftwareFoundation.Python.3.9_qbz5n2kfra8p0\\LocalCache\\local-packages\\Python39\\site-packages\\sklearn\\neural_network\\_multilayer_perceptron.py:702: ConvergenceWarning: Stochastic Optimizer: Maximum iterations (500) reached and the optimization hasn't converged yet.\n",
      "  warnings.warn(\n"
     ]
    },
    {
     "name": "stdout",
     "output_type": "stream",
     "text": [
      "[CV 5/5] END classifier__activation=relu, classifier__alpha=0.0001, classifier__hidden_layer_sizes=(150, 100, 50), classifier__solver=sgd;, score=0.739 total time= 1.8min\n",
      "[CV 1/5] END classifier__activation=relu, classifier__alpha=0.0001, classifier__hidden_layer_sizes=(150, 100, 50), classifier__solver=adam;, score=0.705 total time= 1.1min\n",
      "[CV 2/5] END classifier__activation=relu, classifier__alpha=0.0001, classifier__hidden_layer_sizes=(150, 100, 50), classifier__solver=adam;, score=0.720 total time= 1.3min\n",
      "[CV 3/5] END classifier__activation=relu, classifier__alpha=0.0001, classifier__hidden_layer_sizes=(150, 100, 50), classifier__solver=adam;, score=0.713 total time=  54.3s\n",
      "[CV 4/5] END classifier__activation=relu, classifier__alpha=0.0001, classifier__hidden_layer_sizes=(150, 100, 50), classifier__solver=adam;, score=0.704 total time=  44.6s\n",
      "[CV 5/5] END classifier__activation=relu, classifier__alpha=0.0001, classifier__hidden_layer_sizes=(150, 100, 50), classifier__solver=adam;, score=0.712 total time=  55.6s\n"
     ]
    },
    {
     "name": "stderr",
     "output_type": "stream",
     "text": [
      "C:\\Users\\Rucufuto\\AppData\\Local\\Packages\\PythonSoftwareFoundation.Python.3.9_qbz5n2kfra8p0\\LocalCache\\local-packages\\Python39\\site-packages\\sklearn\\neural_network\\_multilayer_perceptron.py:702: ConvergenceWarning: Stochastic Optimizer: Maximum iterations (500) reached and the optimization hasn't converged yet.\n",
      "  warnings.warn(\n"
     ]
    },
    {
     "name": "stdout",
     "output_type": "stream",
     "text": [
      "[CV 1/5] END classifier__activation=relu, classifier__alpha=0.0001, classifier__hidden_layer_sizes=(100, 50, 30), classifier__solver=sgd;, score=0.729 total time= 1.4min\n"
     ]
    },
    {
     "name": "stderr",
     "output_type": "stream",
     "text": [
      "C:\\Users\\Rucufuto\\AppData\\Local\\Packages\\PythonSoftwareFoundation.Python.3.9_qbz5n2kfra8p0\\LocalCache\\local-packages\\Python39\\site-packages\\sklearn\\neural_network\\_multilayer_perceptron.py:702: ConvergenceWarning: Stochastic Optimizer: Maximum iterations (500) reached and the optimization hasn't converged yet.\n",
      "  warnings.warn(\n"
     ]
    },
    {
     "name": "stdout",
     "output_type": "stream",
     "text": [
      "[CV 2/5] END classifier__activation=relu, classifier__alpha=0.0001, classifier__hidden_layer_sizes=(100, 50, 30), classifier__solver=sgd;, score=0.734 total time= 1.4min\n"
     ]
    },
    {
     "name": "stderr",
     "output_type": "stream",
     "text": [
      "C:\\Users\\Rucufuto\\AppData\\Local\\Packages\\PythonSoftwareFoundation.Python.3.9_qbz5n2kfra8p0\\LocalCache\\local-packages\\Python39\\site-packages\\sklearn\\neural_network\\_multilayer_perceptron.py:702: ConvergenceWarning: Stochastic Optimizer: Maximum iterations (500) reached and the optimization hasn't converged yet.\n",
      "  warnings.warn(\n"
     ]
    },
    {
     "name": "stdout",
     "output_type": "stream",
     "text": [
      "[CV 3/5] END classifier__activation=relu, classifier__alpha=0.0001, classifier__hidden_layer_sizes=(100, 50, 30), classifier__solver=sgd;, score=0.737 total time= 1.4min\n"
     ]
    },
    {
     "name": "stderr",
     "output_type": "stream",
     "text": [
      "C:\\Users\\Rucufuto\\AppData\\Local\\Packages\\PythonSoftwareFoundation.Python.3.9_qbz5n2kfra8p0\\LocalCache\\local-packages\\Python39\\site-packages\\sklearn\\neural_network\\_multilayer_perceptron.py:702: ConvergenceWarning: Stochastic Optimizer: Maximum iterations (500) reached and the optimization hasn't converged yet.\n",
      "  warnings.warn(\n"
     ]
    },
    {
     "name": "stdout",
     "output_type": "stream",
     "text": [
      "[CV 4/5] END classifier__activation=relu, classifier__alpha=0.0001, classifier__hidden_layer_sizes=(100, 50, 30), classifier__solver=sgd;, score=0.726 total time= 1.4min\n"
     ]
    },
    {
     "name": "stderr",
     "output_type": "stream",
     "text": [
      "C:\\Users\\Rucufuto\\AppData\\Local\\Packages\\PythonSoftwareFoundation.Python.3.9_qbz5n2kfra8p0\\LocalCache\\local-packages\\Python39\\site-packages\\sklearn\\neural_network\\_multilayer_perceptron.py:702: ConvergenceWarning: Stochastic Optimizer: Maximum iterations (500) reached and the optimization hasn't converged yet.\n",
      "  warnings.warn(\n"
     ]
    },
    {
     "name": "stdout",
     "output_type": "stream",
     "text": [
      "[CV 5/5] END classifier__activation=relu, classifier__alpha=0.0001, classifier__hidden_layer_sizes=(100, 50, 30), classifier__solver=sgd;, score=0.736 total time= 1.4min\n",
      "[CV 1/5] END classifier__activation=relu, classifier__alpha=0.0001, classifier__hidden_layer_sizes=(100, 50, 30), classifier__solver=adam;, score=0.697 total time=  52.8s\n",
      "[CV 2/5] END classifier__activation=relu, classifier__alpha=0.0001, classifier__hidden_layer_sizes=(100, 50, 30), classifier__solver=adam;, score=0.712 total time=  48.9s\n",
      "[CV 3/5] END classifier__activation=relu, classifier__alpha=0.0001, classifier__hidden_layer_sizes=(100, 50, 30), classifier__solver=adam;, score=0.726 total time=  53.6s\n",
      "[CV 4/5] END classifier__activation=relu, classifier__alpha=0.0001, classifier__hidden_layer_sizes=(100, 50, 30), classifier__solver=adam;, score=0.716 total time= 1.0min\n",
      "[CV 5/5] END classifier__activation=relu, classifier__alpha=0.0001, classifier__hidden_layer_sizes=(100, 50, 30), classifier__solver=adam;, score=0.713 total time=  46.9s\n"
     ]
    },
    {
     "name": "stderr",
     "output_type": "stream",
     "text": [
      "C:\\Users\\Rucufuto\\AppData\\Local\\Packages\\PythonSoftwareFoundation.Python.3.9_qbz5n2kfra8p0\\LocalCache\\local-packages\\Python39\\site-packages\\sklearn\\neural_network\\_multilayer_perceptron.py:702: ConvergenceWarning: Stochastic Optimizer: Maximum iterations (500) reached and the optimization hasn't converged yet.\n",
      "  warnings.warn(\n"
     ]
    },
    {
     "name": "stdout",
     "output_type": "stream",
     "text": [
      "[CV 1/5] END classifier__activation=relu, classifier__alpha=0.05, classifier__hidden_layer_sizes=(150, 100, 50), classifier__solver=sgd;, score=0.726 total time= 1.8min\n"
     ]
    },
    {
     "name": "stderr",
     "output_type": "stream",
     "text": [
      "C:\\Users\\Rucufuto\\AppData\\Local\\Packages\\PythonSoftwareFoundation.Python.3.9_qbz5n2kfra8p0\\LocalCache\\local-packages\\Python39\\site-packages\\sklearn\\neural_network\\_multilayer_perceptron.py:702: ConvergenceWarning: Stochastic Optimizer: Maximum iterations (500) reached and the optimization hasn't converged yet.\n",
      "  warnings.warn(\n"
     ]
    },
    {
     "name": "stdout",
     "output_type": "stream",
     "text": [
      "[CV 2/5] END classifier__activation=relu, classifier__alpha=0.05, classifier__hidden_layer_sizes=(150, 100, 50), classifier__solver=sgd;, score=0.726 total time= 1.8min\n"
     ]
    },
    {
     "name": "stderr",
     "output_type": "stream",
     "text": [
      "C:\\Users\\Rucufuto\\AppData\\Local\\Packages\\PythonSoftwareFoundation.Python.3.9_qbz5n2kfra8p0\\LocalCache\\local-packages\\Python39\\site-packages\\sklearn\\neural_network\\_multilayer_perceptron.py:702: ConvergenceWarning: Stochastic Optimizer: Maximum iterations (500) reached and the optimization hasn't converged yet.\n",
      "  warnings.warn(\n"
     ]
    },
    {
     "name": "stdout",
     "output_type": "stream",
     "text": [
      "[CV 3/5] END classifier__activation=relu, classifier__alpha=0.05, classifier__hidden_layer_sizes=(150, 100, 50), classifier__solver=sgd;, score=0.738 total time= 1.8min\n"
     ]
    },
    {
     "name": "stderr",
     "output_type": "stream",
     "text": [
      "C:\\Users\\Rucufuto\\AppData\\Local\\Packages\\PythonSoftwareFoundation.Python.3.9_qbz5n2kfra8p0\\LocalCache\\local-packages\\Python39\\site-packages\\sklearn\\neural_network\\_multilayer_perceptron.py:702: ConvergenceWarning: Stochastic Optimizer: Maximum iterations (500) reached and the optimization hasn't converged yet.\n",
      "  warnings.warn(\n"
     ]
    },
    {
     "name": "stdout",
     "output_type": "stream",
     "text": [
      "[CV 4/5] END classifier__activation=relu, classifier__alpha=0.05, classifier__hidden_layer_sizes=(150, 100, 50), classifier__solver=sgd;, score=0.726 total time= 1.8min\n"
     ]
    },
    {
     "name": "stderr",
     "output_type": "stream",
     "text": [
      "C:\\Users\\Rucufuto\\AppData\\Local\\Packages\\PythonSoftwareFoundation.Python.3.9_qbz5n2kfra8p0\\LocalCache\\local-packages\\Python39\\site-packages\\sklearn\\neural_network\\_multilayer_perceptron.py:702: ConvergenceWarning: Stochastic Optimizer: Maximum iterations (500) reached and the optimization hasn't converged yet.\n",
      "  warnings.warn(\n"
     ]
    },
    {
     "name": "stdout",
     "output_type": "stream",
     "text": [
      "[CV 5/5] END classifier__activation=relu, classifier__alpha=0.05, classifier__hidden_layer_sizes=(150, 100, 50), classifier__solver=sgd;, score=0.742 total time= 1.8min\n",
      "[CV 1/5] END classifier__activation=relu, classifier__alpha=0.05, classifier__hidden_layer_sizes=(150, 100, 50), classifier__solver=adam;, score=0.713 total time=  38.7s\n",
      "[CV 2/5] END classifier__activation=relu, classifier__alpha=0.05, classifier__hidden_layer_sizes=(150, 100, 50), classifier__solver=adam;, score=0.715 total time=  54.3s\n",
      "[CV 3/5] END classifier__activation=relu, classifier__alpha=0.05, classifier__hidden_layer_sizes=(150, 100, 50), classifier__solver=adam;, score=0.735 total time=  44.9s\n",
      "[CV 4/5] END classifier__activation=relu, classifier__alpha=0.05, classifier__hidden_layer_sizes=(150, 100, 50), classifier__solver=adam;, score=0.732 total time=  49.7s\n",
      "[CV 5/5] END classifier__activation=relu, classifier__alpha=0.05, classifier__hidden_layer_sizes=(150, 100, 50), classifier__solver=adam;, score=0.715 total time=  53.9s\n"
     ]
    },
    {
     "name": "stderr",
     "output_type": "stream",
     "text": [
      "C:\\Users\\Rucufuto\\AppData\\Local\\Packages\\PythonSoftwareFoundation.Python.3.9_qbz5n2kfra8p0\\LocalCache\\local-packages\\Python39\\site-packages\\sklearn\\neural_network\\_multilayer_perceptron.py:702: ConvergenceWarning: Stochastic Optimizer: Maximum iterations (500) reached and the optimization hasn't converged yet.\n",
      "  warnings.warn(\n"
     ]
    },
    {
     "name": "stdout",
     "output_type": "stream",
     "text": [
      "[CV 1/5] END classifier__activation=relu, classifier__alpha=0.05, classifier__hidden_layer_sizes=(100, 50, 30), classifier__solver=sgd;, score=0.732 total time= 1.4min\n"
     ]
    },
    {
     "name": "stderr",
     "output_type": "stream",
     "text": [
      "C:\\Users\\Rucufuto\\AppData\\Local\\Packages\\PythonSoftwareFoundation.Python.3.9_qbz5n2kfra8p0\\LocalCache\\local-packages\\Python39\\site-packages\\sklearn\\neural_network\\_multilayer_perceptron.py:702: ConvergenceWarning: Stochastic Optimizer: Maximum iterations (500) reached and the optimization hasn't converged yet.\n",
      "  warnings.warn(\n"
     ]
    },
    {
     "name": "stdout",
     "output_type": "stream",
     "text": [
      "[CV 2/5] END classifier__activation=relu, classifier__alpha=0.05, classifier__hidden_layer_sizes=(100, 50, 30), classifier__solver=sgd;, score=0.736 total time= 1.4min\n"
     ]
    },
    {
     "name": "stderr",
     "output_type": "stream",
     "text": [
      "C:\\Users\\Rucufuto\\AppData\\Local\\Packages\\PythonSoftwareFoundation.Python.3.9_qbz5n2kfra8p0\\LocalCache\\local-packages\\Python39\\site-packages\\sklearn\\neural_network\\_multilayer_perceptron.py:702: ConvergenceWarning: Stochastic Optimizer: Maximum iterations (500) reached and the optimization hasn't converged yet.\n",
      "  warnings.warn(\n"
     ]
    },
    {
     "name": "stdout",
     "output_type": "stream",
     "text": [
      "[CV 3/5] END classifier__activation=relu, classifier__alpha=0.05, classifier__hidden_layer_sizes=(100, 50, 30), classifier__solver=sgd;, score=0.736 total time= 1.4min\n"
     ]
    },
    {
     "name": "stderr",
     "output_type": "stream",
     "text": [
      "C:\\Users\\Rucufuto\\AppData\\Local\\Packages\\PythonSoftwareFoundation.Python.3.9_qbz5n2kfra8p0\\LocalCache\\local-packages\\Python39\\site-packages\\sklearn\\neural_network\\_multilayer_perceptron.py:702: ConvergenceWarning: Stochastic Optimizer: Maximum iterations (500) reached and the optimization hasn't converged yet.\n",
      "  warnings.warn(\n"
     ]
    },
    {
     "name": "stdout",
     "output_type": "stream",
     "text": [
      "[CV 4/5] END classifier__activation=relu, classifier__alpha=0.05, classifier__hidden_layer_sizes=(100, 50, 30), classifier__solver=sgd;, score=0.721 total time= 1.4min\n"
     ]
    },
    {
     "name": "stderr",
     "output_type": "stream",
     "text": [
      "C:\\Users\\Rucufuto\\AppData\\Local\\Packages\\PythonSoftwareFoundation.Python.3.9_qbz5n2kfra8p0\\LocalCache\\local-packages\\Python39\\site-packages\\sklearn\\neural_network\\_multilayer_perceptron.py:702: ConvergenceWarning: Stochastic Optimizer: Maximum iterations (500) reached and the optimization hasn't converged yet.\n",
      "  warnings.warn(\n"
     ]
    },
    {
     "name": "stdout",
     "output_type": "stream",
     "text": [
      "[CV 5/5] END classifier__activation=relu, classifier__alpha=0.05, classifier__hidden_layer_sizes=(100, 50, 30), classifier__solver=sgd;, score=0.732 total time= 1.4min\n",
      "[CV 1/5] END classifier__activation=relu, classifier__alpha=0.05, classifier__hidden_layer_sizes=(100, 50, 30), classifier__solver=adam;, score=0.722 total time=  40.6s\n",
      "[CV 2/5] END classifier__activation=relu, classifier__alpha=0.05, classifier__hidden_layer_sizes=(100, 50, 30), classifier__solver=adam;, score=0.735 total time=  40.7s\n",
      "[CV 3/5] END classifier__activation=relu, classifier__alpha=0.05, classifier__hidden_layer_sizes=(100, 50, 30), classifier__solver=adam;, score=0.734 total time=  26.6s\n",
      "[CV 4/5] END classifier__activation=relu, classifier__alpha=0.05, classifier__hidden_layer_sizes=(100, 50, 30), classifier__solver=adam;, score=0.726 total time=  37.0s\n",
      "[CV 5/5] END classifier__activation=relu, classifier__alpha=0.05, classifier__hidden_layer_sizes=(100, 50, 30), classifier__solver=adam;, score=0.726 total time=  35.0s\n"
     ]
    },
    {
     "name": "stderr",
     "output_type": "stream",
     "text": [
      "C:\\Users\\Rucufuto\\AppData\\Local\\Packages\\PythonSoftwareFoundation.Python.3.9_qbz5n2kfra8p0\\LocalCache\\local-packages\\Python39\\site-packages\\sklearn\\neural_network\\_multilayer_perceptron.py:702: ConvergenceWarning: Stochastic Optimizer: Maximum iterations (500) reached and the optimization hasn't converged yet.\n",
      "  warnings.warn(\n"
     ]
    },
    {
     "name": "stdout",
     "output_type": "stream",
     "text": [
      "fit realizado con clasificador MLP\n",
      "Decission Tree\n",
      "DecisionTreeClassifier(random_state=1000)\n",
      "{}\n",
      "Fitting 5 folds for each of 1 candidates, totalling 5 fits\n",
      "[CV 1/5] END ..................................., score=0.678 total time=   0.0s\n",
      "[CV 2/5] END ..................................., score=0.687 total time=   0.0s\n",
      "[CV 3/5] END ..................................., score=0.686 total time=   0.0s\n",
      "[CV 4/5] END ..................................., score=0.691 total time=   0.0s\n",
      "[CV 5/5] END ..................................., score=0.686 total time=   0.0s\n",
      "fit realizado con clasificador Decission Tree\n",
      "Random Forest\n",
      "RandomForestClassifier(random_state=1000)\n",
      "{'classifier__n_estimators': array([100, 200, 300, 400, 500, 600, 700, 800, 900])}\n",
      "Fitting 5 folds for each of 9 candidates, totalling 45 fits\n",
      "[CV 1/5] END ......classifier__n_estimators=100;, score=0.756 total time=   1.0s\n",
      "[CV 2/5] END ......classifier__n_estimators=100;, score=0.763 total time=   1.0s\n",
      "[CV 3/5] END ......classifier__n_estimators=100;, score=0.763 total time=   1.0s\n",
      "[CV 4/5] END ......classifier__n_estimators=100;, score=0.758 total time=   1.1s\n",
      "[CV 5/5] END ......classifier__n_estimators=100;, score=0.770 total time=   1.0s\n",
      "[CV 1/5] END ......classifier__n_estimators=200;, score=0.761 total time=   2.1s\n",
      "[CV 2/5] END ......classifier__n_estimators=200;, score=0.764 total time=   2.2s\n",
      "[CV 3/5] END ......classifier__n_estimators=200;, score=0.767 total time=   2.1s\n",
      "[CV 4/5] END ......classifier__n_estimators=200;, score=0.759 total time=   2.2s\n",
      "[CV 5/5] END ......classifier__n_estimators=200;, score=0.768 total time=   2.2s\n",
      "[CV 1/5] END ......classifier__n_estimators=300;, score=0.757 total time=   3.1s\n",
      "[CV 2/5] END ......classifier__n_estimators=300;, score=0.766 total time=   3.4s\n",
      "[CV 3/5] END ......classifier__n_estimators=300;, score=0.766 total time=   3.3s\n",
      "[CV 4/5] END ......classifier__n_estimators=300;, score=0.760 total time=   3.2s\n",
      "[CV 5/5] END ......classifier__n_estimators=300;, score=0.770 total time=   3.3s\n",
      "[CV 1/5] END ......classifier__n_estimators=400;, score=0.756 total time=   4.3s\n",
      "[CV 2/5] END ......classifier__n_estimators=400;, score=0.765 total time=   4.3s\n",
      "[CV 3/5] END ......classifier__n_estimators=400;, score=0.764 total time=   4.2s\n",
      "[CV 4/5] END ......classifier__n_estimators=400;, score=0.760 total time=   4.3s\n",
      "[CV 5/5] END ......classifier__n_estimators=400;, score=0.770 total time=   4.3s\n",
      "[CV 1/5] END ......classifier__n_estimators=500;, score=0.758 total time=   5.3s\n",
      "[CV 2/5] END ......classifier__n_estimators=500;, score=0.766 total time=   5.4s\n",
      "[CV 3/5] END ......classifier__n_estimators=500;, score=0.765 total time=   5.3s\n",
      "[CV 4/5] END ......classifier__n_estimators=500;, score=0.759 total time=   5.3s\n",
      "[CV 5/5] END ......classifier__n_estimators=500;, score=0.770 total time=   5.3s\n",
      "[CV 1/5] END ......classifier__n_estimators=600;, score=0.758 total time=   6.3s\n",
      "[CV 2/5] END ......classifier__n_estimators=600;, score=0.766 total time=   6.4s\n",
      "[CV 3/5] END ......classifier__n_estimators=600;, score=0.765 total time=   6.5s\n",
      "[CV 4/5] END ......classifier__n_estimators=600;, score=0.761 total time=   6.4s\n",
      "[CV 5/5] END ......classifier__n_estimators=600;, score=0.769 total time=   6.5s\n",
      "[CV 1/5] END ......classifier__n_estimators=700;, score=0.757 total time=   7.4s\n",
      "[CV 2/5] END ......classifier__n_estimators=700;, score=0.767 total time=   7.6s\n",
      "[CV 3/5] END ......classifier__n_estimators=700;, score=0.766 total time=   7.4s\n",
      "[CV 4/5] END ......classifier__n_estimators=700;, score=0.761 total time=   7.5s\n",
      "[CV 5/5] END ......classifier__n_estimators=700;, score=0.771 total time=   7.4s\n",
      "[CV 1/5] END ......classifier__n_estimators=800;, score=0.759 total time=   8.6s\n",
      "[CV 2/5] END ......classifier__n_estimators=800;, score=0.768 total time=   8.8s\n",
      "[CV 3/5] END ......classifier__n_estimators=800;, score=0.764 total time=   8.6s\n",
      "[CV 4/5] END ......classifier__n_estimators=800;, score=0.761 total time=   8.5s\n",
      "[CV 5/5] END ......classifier__n_estimators=800;, score=0.769 total time=   8.6s\n",
      "[CV 1/5] END ......classifier__n_estimators=900;, score=0.758 total time=   9.7s\n",
      "[CV 2/5] END ......classifier__n_estimators=900;, score=0.767 total time=   9.8s\n",
      "[CV 3/5] END ......classifier__n_estimators=900;, score=0.764 total time=   9.7s\n",
      "[CV 4/5] END ......classifier__n_estimators=900;, score=0.760 total time=   9.6s\n",
      "[CV 5/5] END ......classifier__n_estimators=900;, score=0.769 total time=   9.6s\n",
      "fit realizado con clasificador Random Forest\n",
      "XGBoost\n",
      "XGBClassifier(base_score=None, booster=None, callbacks=None,\n",
      "              colsample_bylevel=None, colsample_bynode=None,\n",
      "              colsample_bytree=None, early_stopping_rounds=None,\n",
      "              enable_categorical=False, eval_metric=None, gamma=None,\n",
      "              gpu_id=None, grow_policy=None, importance_type=None,\n",
      "              interaction_constraints=None, learning_rate=None, max_bin=None,\n",
      "              max_cat_to_onehot=None, max_delta_step=None, max_depth=None,\n",
      "              max_leaves=None, min_child_weight=None, missing=nan,\n",
      "              monotone_constraints=None, n_estimators=100, n_jobs=None,\n",
      "              num_parallel_tree=None, predictor=None, random_state=1000,\n",
      "              reg_alpha=None, reg_lambda=None, ...)\n",
      "{'classifier__learning_rate': [0.05, 0.1, 0.2], 'classifier__max_depth': [1, 2, 3, 5, 8], 'classifier__reg_lambda': [0, 1, 10]}\n",
      "Fitting 5 folds for each of 45 candidates, totalling 225 fits\n",
      "[CV 1/5] END classifier__learning_rate=0.05, classifier__max_depth=1, classifier__reg_lambda=0;, score=0.693 total time=   0.4s\n",
      "[CV 2/5] END classifier__learning_rate=0.05, classifier__max_depth=1, classifier__reg_lambda=0;, score=0.702 total time=   0.4s\n",
      "[CV 3/5] END classifier__learning_rate=0.05, classifier__max_depth=1, classifier__reg_lambda=0;, score=0.697 total time=   0.4s\n",
      "[CV 4/5] END classifier__learning_rate=0.05, classifier__max_depth=1, classifier__reg_lambda=0;, score=0.700 total time=   0.4s\n",
      "[CV 5/5] END classifier__learning_rate=0.05, classifier__max_depth=1, classifier__reg_lambda=0;, score=0.699 total time=   0.4s\n",
      "[CV 1/5] END classifier__learning_rate=0.05, classifier__max_depth=1, classifier__reg_lambda=1;, score=0.693 total time=   0.4s\n",
      "[CV 2/5] END classifier__learning_rate=0.05, classifier__max_depth=1, classifier__reg_lambda=1;, score=0.702 total time=   0.4s\n",
      "[CV 3/5] END classifier__learning_rate=0.05, classifier__max_depth=1, classifier__reg_lambda=1;, score=0.697 total time=   0.4s\n",
      "[CV 4/5] END classifier__learning_rate=0.05, classifier__max_depth=1, classifier__reg_lambda=1;, score=0.700 total time=   0.4s\n",
      "[CV 5/5] END classifier__learning_rate=0.05, classifier__max_depth=1, classifier__reg_lambda=1;, score=0.699 total time=   0.4s\n",
      "[CV 1/5] END classifier__learning_rate=0.05, classifier__max_depth=1, classifier__reg_lambda=10;, score=0.697 total time=   0.4s\n",
      "[CV 2/5] END classifier__learning_rate=0.05, classifier__max_depth=1, classifier__reg_lambda=10;, score=0.702 total time=   0.4s\n",
      "[CV 3/5] END classifier__learning_rate=0.05, classifier__max_depth=1, classifier__reg_lambda=10;, score=0.697 total time=   0.4s\n",
      "[CV 4/5] END classifier__learning_rate=0.05, classifier__max_depth=1, classifier__reg_lambda=10;, score=0.701 total time=   0.4s\n",
      "[CV 5/5] END classifier__learning_rate=0.05, classifier__max_depth=1, classifier__reg_lambda=10;, score=0.699 total time=   0.4s\n",
      "[CV 1/5] END classifier__learning_rate=0.05, classifier__max_depth=2, classifier__reg_lambda=0;, score=0.714 total time=   0.7s\n",
      "[CV 2/5] END classifier__learning_rate=0.05, classifier__max_depth=2, classifier__reg_lambda=0;, score=0.720 total time=   0.7s\n",
      "[CV 3/5] END classifier__learning_rate=0.05, classifier__max_depth=2, classifier__reg_lambda=0;, score=0.715 total time=   0.7s\n",
      "[CV 4/5] END classifier__learning_rate=0.05, classifier__max_depth=2, classifier__reg_lambda=0;, score=0.712 total time=   0.7s\n",
      "[CV 5/5] END classifier__learning_rate=0.05, classifier__max_depth=2, classifier__reg_lambda=0;, score=0.717 total time=   0.7s\n",
      "[CV 1/5] END classifier__learning_rate=0.05, classifier__max_depth=2, classifier__reg_lambda=1;, score=0.715 total time=   0.7s\n",
      "[CV 2/5] END classifier__learning_rate=0.05, classifier__max_depth=2, classifier__reg_lambda=1;, score=0.716 total time=   0.7s\n",
      "[CV 3/5] END classifier__learning_rate=0.05, classifier__max_depth=2, classifier__reg_lambda=1;, score=0.716 total time=   0.7s\n",
      "[CV 4/5] END classifier__learning_rate=0.05, classifier__max_depth=2, classifier__reg_lambda=1;, score=0.713 total time=   0.7s\n",
      "[CV 5/5] END classifier__learning_rate=0.05, classifier__max_depth=2, classifier__reg_lambda=1;, score=0.717 total time=   0.7s\n",
      "[CV 1/5] END classifier__learning_rate=0.05, classifier__max_depth=2, classifier__reg_lambda=10;, score=0.715 total time=   0.7s\n",
      "[CV 2/5] END classifier__learning_rate=0.05, classifier__max_depth=2, classifier__reg_lambda=10;, score=0.714 total time=   0.7s\n",
      "[CV 3/5] END classifier__learning_rate=0.05, classifier__max_depth=2, classifier__reg_lambda=10;, score=0.715 total time=   0.7s\n",
      "[CV 4/5] END classifier__learning_rate=0.05, classifier__max_depth=2, classifier__reg_lambda=10;, score=0.713 total time=   0.7s\n",
      "[CV 5/5] END classifier__learning_rate=0.05, classifier__max_depth=2, classifier__reg_lambda=10;, score=0.717 total time=   0.7s\n",
      "[CV 1/5] END classifier__learning_rate=0.05, classifier__max_depth=3, classifier__reg_lambda=0;, score=0.723 total time=   1.1s\n",
      "[CV 2/5] END classifier__learning_rate=0.05, classifier__max_depth=3, classifier__reg_lambda=0;, score=0.733 total time=   1.1s\n",
      "[CV 3/5] END classifier__learning_rate=0.05, classifier__max_depth=3, classifier__reg_lambda=0;, score=0.728 total time=   1.0s\n",
      "[CV 4/5] END classifier__learning_rate=0.05, classifier__max_depth=3, classifier__reg_lambda=0;, score=0.723 total time=   1.1s\n",
      "[CV 5/5] END classifier__learning_rate=0.05, classifier__max_depth=3, classifier__reg_lambda=0;, score=0.729 total time=   1.1s\n",
      "[CV 1/5] END classifier__learning_rate=0.05, classifier__max_depth=3, classifier__reg_lambda=1;, score=0.721 total time=   1.1s\n",
      "[CV 2/5] END classifier__learning_rate=0.05, classifier__max_depth=3, classifier__reg_lambda=1;, score=0.732 total time=   1.1s\n",
      "[CV 3/5] END classifier__learning_rate=0.05, classifier__max_depth=3, classifier__reg_lambda=1;, score=0.725 total time=   1.1s\n",
      "[CV 4/5] END classifier__learning_rate=0.05, classifier__max_depth=3, classifier__reg_lambda=1;, score=0.720 total time=   1.1s\n",
      "[CV 5/5] END classifier__learning_rate=0.05, classifier__max_depth=3, classifier__reg_lambda=1;, score=0.731 total time=   1.0s\n",
      "[CV 1/5] END classifier__learning_rate=0.05, classifier__max_depth=3, classifier__reg_lambda=10;, score=0.723 total time=   1.1s\n",
      "[CV 2/5] END classifier__learning_rate=0.05, classifier__max_depth=3, classifier__reg_lambda=10;, score=0.733 total time=   1.1s\n",
      "[CV 3/5] END classifier__learning_rate=0.05, classifier__max_depth=3, classifier__reg_lambda=10;, score=0.726 total time=   1.1s\n",
      "[CV 4/5] END classifier__learning_rate=0.05, classifier__max_depth=3, classifier__reg_lambda=10;, score=0.721 total time=   1.1s\n",
      "[CV 5/5] END classifier__learning_rate=0.05, classifier__max_depth=3, classifier__reg_lambda=10;, score=0.727 total time=   1.1s\n",
      "[CV 1/5] END classifier__learning_rate=0.05, classifier__max_depth=5, classifier__reg_lambda=0;, score=0.731 total time=   1.9s\n",
      "[CV 2/5] END classifier__learning_rate=0.05, classifier__max_depth=5, classifier__reg_lambda=0;, score=0.749 total time=   1.8s\n",
      "[CV 3/5] END classifier__learning_rate=0.05, classifier__max_depth=5, classifier__reg_lambda=0;, score=0.740 total time=   1.8s\n",
      "[CV 4/5] END classifier__learning_rate=0.05, classifier__max_depth=5, classifier__reg_lambda=0;, score=0.733 total time=   1.8s\n",
      "[CV 5/5] END classifier__learning_rate=0.05, classifier__max_depth=5, classifier__reg_lambda=0;, score=0.741 total time=   1.8s\n",
      "[CV 1/5] END classifier__learning_rate=0.05, classifier__max_depth=5, classifier__reg_lambda=1;, score=0.730 total time=   1.8s\n",
      "[CV 2/5] END classifier__learning_rate=0.05, classifier__max_depth=5, classifier__reg_lambda=1;, score=0.750 total time=   1.8s\n",
      "[CV 3/5] END classifier__learning_rate=0.05, classifier__max_depth=5, classifier__reg_lambda=1;, score=0.741 total time=   1.8s\n",
      "[CV 4/5] END classifier__learning_rate=0.05, classifier__max_depth=5, classifier__reg_lambda=1;, score=0.738 total time=   1.8s\n",
      "[CV 5/5] END classifier__learning_rate=0.05, classifier__max_depth=5, classifier__reg_lambda=1;, score=0.743 total time=   1.8s\n",
      "[CV 1/5] END classifier__learning_rate=0.05, classifier__max_depth=5, classifier__reg_lambda=10;, score=0.733 total time=   1.9s\n",
      "[CV 2/5] END classifier__learning_rate=0.05, classifier__max_depth=5, classifier__reg_lambda=10;, score=0.746 total time=   1.8s\n",
      "[CV 3/5] END classifier__learning_rate=0.05, classifier__max_depth=5, classifier__reg_lambda=10;, score=0.741 total time=   1.8s\n",
      "[CV 4/5] END classifier__learning_rate=0.05, classifier__max_depth=5, classifier__reg_lambda=10;, score=0.732 total time=   1.9s\n",
      "[CV 5/5] END classifier__learning_rate=0.05, classifier__max_depth=5, classifier__reg_lambda=10;, score=0.743 total time=   1.8s\n",
      "[CV 1/5] END classifier__learning_rate=0.05, classifier__max_depth=8, classifier__reg_lambda=0;, score=0.754 total time=   3.1s\n",
      "[CV 2/5] END classifier__learning_rate=0.05, classifier__max_depth=8, classifier__reg_lambda=0;, score=0.760 total time=   3.1s\n",
      "[CV 3/5] END classifier__learning_rate=0.05, classifier__max_depth=8, classifier__reg_lambda=0;, score=0.751 total time=   3.1s\n",
      "[CV 4/5] END classifier__learning_rate=0.05, classifier__max_depth=8, classifier__reg_lambda=0;, score=0.749 total time=   3.0s\n",
      "[CV 5/5] END classifier__learning_rate=0.05, classifier__max_depth=8, classifier__reg_lambda=0;, score=0.757 total time=   3.1s\n",
      "[CV 1/5] END classifier__learning_rate=0.05, classifier__max_depth=8, classifier__reg_lambda=1;, score=0.750 total time=   2.9s\n",
      "[CV 2/5] END classifier__learning_rate=0.05, classifier__max_depth=8, classifier__reg_lambda=1;, score=0.761 total time=   3.0s\n",
      "[CV 3/5] END classifier__learning_rate=0.05, classifier__max_depth=8, classifier__reg_lambda=1;, score=0.750 total time=   2.9s\n",
      "[CV 4/5] END classifier__learning_rate=0.05, classifier__max_depth=8, classifier__reg_lambda=1;, score=0.752 total time=   3.0s\n",
      "[CV 5/5] END classifier__learning_rate=0.05, classifier__max_depth=8, classifier__reg_lambda=1;, score=0.761 total time=   2.9s\n",
      "[CV 1/5] END classifier__learning_rate=0.05, classifier__max_depth=8, classifier__reg_lambda=10;, score=0.745 total time=   3.0s\n",
      "[CV 2/5] END classifier__learning_rate=0.05, classifier__max_depth=8, classifier__reg_lambda=10;, score=0.768 total time=   2.9s\n",
      "[CV 3/5] END classifier__learning_rate=0.05, classifier__max_depth=8, classifier__reg_lambda=10;, score=0.748 total time=   3.0s\n",
      "[CV 4/5] END classifier__learning_rate=0.05, classifier__max_depth=8, classifier__reg_lambda=10;, score=0.746 total time=   2.9s\n",
      "[CV 5/5] END classifier__learning_rate=0.05, classifier__max_depth=8, classifier__reg_lambda=10;, score=0.763 total time=   3.0s\n",
      "[CV 1/5] END classifier__learning_rate=0.1, classifier__max_depth=1, classifier__reg_lambda=0;, score=0.704 total time=   0.4s\n",
      "[CV 2/5] END classifier__learning_rate=0.1, classifier__max_depth=1, classifier__reg_lambda=0;, score=0.712 total time=   0.4s\n",
      "[CV 3/5] END classifier__learning_rate=0.1, classifier__max_depth=1, classifier__reg_lambda=0;, score=0.706 total time=   0.4s\n",
      "[CV 4/5] END classifier__learning_rate=0.1, classifier__max_depth=1, classifier__reg_lambda=0;, score=0.712 total time=   0.4s\n",
      "[CV 5/5] END classifier__learning_rate=0.1, classifier__max_depth=1, classifier__reg_lambda=0;, score=0.709 total time=   0.4s\n",
      "[CV 1/5] END classifier__learning_rate=0.1, classifier__max_depth=1, classifier__reg_lambda=1;, score=0.705 total time=   0.4s\n",
      "[CV 2/5] END classifier__learning_rate=0.1, classifier__max_depth=1, classifier__reg_lambda=1;, score=0.712 total time=   0.4s\n",
      "[CV 3/5] END classifier__learning_rate=0.1, classifier__max_depth=1, classifier__reg_lambda=1;, score=0.706 total time=   0.4s\n",
      "[CV 4/5] END classifier__learning_rate=0.1, classifier__max_depth=1, classifier__reg_lambda=1;, score=0.712 total time=   0.4s\n",
      "[CV 5/5] END classifier__learning_rate=0.1, classifier__max_depth=1, classifier__reg_lambda=1;, score=0.709 total time=   0.4s\n",
      "[CV 1/5] END classifier__learning_rate=0.1, classifier__max_depth=1, classifier__reg_lambda=10;, score=0.706 total time=   0.4s\n",
      "[CV 2/5] END classifier__learning_rate=0.1, classifier__max_depth=1, classifier__reg_lambda=10;, score=0.710 total time=   0.4s\n",
      "[CV 3/5] END classifier__learning_rate=0.1, classifier__max_depth=1, classifier__reg_lambda=10;, score=0.705 total time=   0.4s\n",
      "[CV 4/5] END classifier__learning_rate=0.1, classifier__max_depth=1, classifier__reg_lambda=10;, score=0.709 total time=   0.4s\n",
      "[CV 5/5] END classifier__learning_rate=0.1, classifier__max_depth=1, classifier__reg_lambda=10;, score=0.708 total time=   0.4s\n",
      "[CV 1/5] END classifier__learning_rate=0.1, classifier__max_depth=2, classifier__reg_lambda=0;, score=0.716 total time=   0.7s\n",
      "[CV 2/5] END classifier__learning_rate=0.1, classifier__max_depth=2, classifier__reg_lambda=0;, score=0.734 total time=   0.7s\n",
      "[CV 3/5] END classifier__learning_rate=0.1, classifier__max_depth=2, classifier__reg_lambda=0;, score=0.729 total time=   0.7s\n",
      "[CV 4/5] END classifier__learning_rate=0.1, classifier__max_depth=2, classifier__reg_lambda=0;, score=0.723 total time=   0.7s\n",
      "[CV 5/5] END classifier__learning_rate=0.1, classifier__max_depth=2, classifier__reg_lambda=0;, score=0.731 total time=   0.7s\n",
      "[CV 1/5] END classifier__learning_rate=0.1, classifier__max_depth=2, classifier__reg_lambda=1;, score=0.718 total time=   0.7s\n",
      "[CV 2/5] END classifier__learning_rate=0.1, classifier__max_depth=2, classifier__reg_lambda=1;, score=0.734 total time=   0.7s\n",
      "[CV 3/5] END classifier__learning_rate=0.1, classifier__max_depth=2, classifier__reg_lambda=1;, score=0.730 total time=   0.7s\n",
      "[CV 4/5] END classifier__learning_rate=0.1, classifier__max_depth=2, classifier__reg_lambda=1;, score=0.723 total time=   0.7s\n",
      "[CV 5/5] END classifier__learning_rate=0.1, classifier__max_depth=2, classifier__reg_lambda=1;, score=0.730 total time=   0.7s\n",
      "[CV 1/5] END classifier__learning_rate=0.1, classifier__max_depth=2, classifier__reg_lambda=10;, score=0.717 total time=   0.7s\n",
      "[CV 2/5] END classifier__learning_rate=0.1, classifier__max_depth=2, classifier__reg_lambda=10;, score=0.731 total time=   0.7s\n",
      "[CV 3/5] END classifier__learning_rate=0.1, classifier__max_depth=2, classifier__reg_lambda=10;, score=0.731 total time=   0.7s\n",
      "[CV 4/5] END classifier__learning_rate=0.1, classifier__max_depth=2, classifier__reg_lambda=10;, score=0.718 total time=   0.7s\n",
      "[CV 5/5] END classifier__learning_rate=0.1, classifier__max_depth=2, classifier__reg_lambda=10;, score=0.731 total time=   0.7s\n",
      "[CV 1/5] END classifier__learning_rate=0.1, classifier__max_depth=3, classifier__reg_lambda=0;, score=0.727 total time=   1.1s\n",
      "[CV 2/5] END classifier__learning_rate=0.1, classifier__max_depth=3, classifier__reg_lambda=0;, score=0.740 total time=   1.0s\n",
      "[CV 3/5] END classifier__learning_rate=0.1, classifier__max_depth=3, classifier__reg_lambda=0;, score=0.735 total time=   1.1s\n",
      "[CV 4/5] END classifier__learning_rate=0.1, classifier__max_depth=3, classifier__reg_lambda=0;, score=0.732 total time=   1.1s\n",
      "[CV 5/5] END classifier__learning_rate=0.1, classifier__max_depth=3, classifier__reg_lambda=0;, score=0.737 total time=   1.0s\n",
      "[CV 1/5] END classifier__learning_rate=0.1, classifier__max_depth=3, classifier__reg_lambda=1;, score=0.723 total time=   1.1s\n",
      "[CV 2/5] END classifier__learning_rate=0.1, classifier__max_depth=3, classifier__reg_lambda=1;, score=0.739 total time=   1.0s\n",
      "[CV 3/5] END classifier__learning_rate=0.1, classifier__max_depth=3, classifier__reg_lambda=1;, score=0.738 total time=   1.1s\n",
      "[CV 4/5] END classifier__learning_rate=0.1, classifier__max_depth=3, classifier__reg_lambda=1;, score=0.730 total time=   1.1s\n",
      "[CV 5/5] END classifier__learning_rate=0.1, classifier__max_depth=3, classifier__reg_lambda=1;, score=0.741 total time=   1.0s\n",
      "[CV 1/5] END classifier__learning_rate=0.1, classifier__max_depth=3, classifier__reg_lambda=10;, score=0.724 total time=   1.1s\n",
      "[CV 2/5] END classifier__learning_rate=0.1, classifier__max_depth=3, classifier__reg_lambda=10;, score=0.738 total time=   1.0s\n",
      "[CV 3/5] END classifier__learning_rate=0.1, classifier__max_depth=3, classifier__reg_lambda=10;, score=0.739 total time=   1.1s\n",
      "[CV 4/5] END classifier__learning_rate=0.1, classifier__max_depth=3, classifier__reg_lambda=10;, score=0.729 total time=   1.0s\n",
      "[CV 5/5] END classifier__learning_rate=0.1, classifier__max_depth=3, classifier__reg_lambda=10;, score=0.738 total time=   1.1s\n",
      "[CV 1/5] END classifier__learning_rate=0.1, classifier__max_depth=5, classifier__reg_lambda=0;, score=0.741 total time=   1.7s\n",
      "[CV 2/5] END classifier__learning_rate=0.1, classifier__max_depth=5, classifier__reg_lambda=0;, score=0.754 total time=   1.7s\n",
      "[CV 3/5] END classifier__learning_rate=0.1, classifier__max_depth=5, classifier__reg_lambda=0;, score=0.746 total time=   1.8s\n",
      "[CV 4/5] END classifier__learning_rate=0.1, classifier__max_depth=5, classifier__reg_lambda=0;, score=0.740 total time=   1.8s\n",
      "[CV 5/5] END classifier__learning_rate=0.1, classifier__max_depth=5, classifier__reg_lambda=0;, score=0.750 total time=   1.7s\n",
      "[CV 1/5] END classifier__learning_rate=0.1, classifier__max_depth=5, classifier__reg_lambda=1;, score=0.735 total time=   1.7s\n",
      "[CV 2/5] END classifier__learning_rate=0.1, classifier__max_depth=5, classifier__reg_lambda=1;, score=0.752 total time=   1.8s\n",
      "[CV 3/5] END classifier__learning_rate=0.1, classifier__max_depth=5, classifier__reg_lambda=1;, score=0.749 total time=   1.7s\n",
      "[CV 4/5] END classifier__learning_rate=0.1, classifier__max_depth=5, classifier__reg_lambda=1;, score=0.741 total time=   1.8s\n",
      "[CV 5/5] END classifier__learning_rate=0.1, classifier__max_depth=5, classifier__reg_lambda=1;, score=0.751 total time=   1.8s\n",
      "[CV 1/5] END classifier__learning_rate=0.1, classifier__max_depth=5, classifier__reg_lambda=10;, score=0.737 total time=   1.8s\n",
      "[CV 2/5] END classifier__learning_rate=0.1, classifier__max_depth=5, classifier__reg_lambda=10;, score=0.753 total time=   1.8s\n",
      "[CV 3/5] END classifier__learning_rate=0.1, classifier__max_depth=5, classifier__reg_lambda=10;, score=0.748 total time=   1.8s\n",
      "[CV 4/5] END classifier__learning_rate=0.1, classifier__max_depth=5, classifier__reg_lambda=10;, score=0.737 total time=   1.8s\n",
      "[CV 5/5] END classifier__learning_rate=0.1, classifier__max_depth=5, classifier__reg_lambda=10;, score=0.753 total time=   1.7s\n",
      "[CV 1/5] END classifier__learning_rate=0.1, classifier__max_depth=8, classifier__reg_lambda=0;, score=0.749 total time=   2.9s\n",
      "[CV 2/5] END classifier__learning_rate=0.1, classifier__max_depth=8, classifier__reg_lambda=0;, score=0.756 total time=   2.9s\n",
      "[CV 3/5] END classifier__learning_rate=0.1, classifier__max_depth=8, classifier__reg_lambda=0;, score=0.756 total time=   2.9s\n",
      "[CV 4/5] END classifier__learning_rate=0.1, classifier__max_depth=8, classifier__reg_lambda=0;, score=0.750 total time=   2.9s\n",
      "[CV 5/5] END classifier__learning_rate=0.1, classifier__max_depth=8, classifier__reg_lambda=0;, score=0.756 total time=   2.9s\n",
      "[CV 1/5] END classifier__learning_rate=0.1, classifier__max_depth=8, classifier__reg_lambda=1;, score=0.753 total time=   2.8s\n",
      "[CV 2/5] END classifier__learning_rate=0.1, classifier__max_depth=8, classifier__reg_lambda=1;, score=0.762 total time=   2.9s\n",
      "[CV 3/5] END classifier__learning_rate=0.1, classifier__max_depth=8, classifier__reg_lambda=1;, score=0.754 total time=   2.8s\n",
      "[CV 4/5] END classifier__learning_rate=0.1, classifier__max_depth=8, classifier__reg_lambda=1;, score=0.752 total time=   2.8s\n",
      "[CV 5/5] END classifier__learning_rate=0.1, classifier__max_depth=8, classifier__reg_lambda=1;, score=0.761 total time=   2.7s\n",
      "[CV 1/5] END classifier__learning_rate=0.1, classifier__max_depth=8, classifier__reg_lambda=10;, score=0.747 total time=   2.8s\n",
      "[CV 2/5] END classifier__learning_rate=0.1, classifier__max_depth=8, classifier__reg_lambda=10;, score=0.761 total time=   2.8s\n",
      "[CV 3/5] END classifier__learning_rate=0.1, classifier__max_depth=8, classifier__reg_lambda=10;, score=0.747 total time=   2.8s\n",
      "[CV 4/5] END classifier__learning_rate=0.1, classifier__max_depth=8, classifier__reg_lambda=10;, score=0.747 total time=   2.8s\n",
      "[CV 5/5] END classifier__learning_rate=0.1, classifier__max_depth=8, classifier__reg_lambda=10;, score=0.766 total time=   2.8s\n",
      "[CV 1/5] END classifier__learning_rate=0.2, classifier__max_depth=1, classifier__reg_lambda=0;, score=0.714 total time=   0.4s\n",
      "[CV 2/5] END classifier__learning_rate=0.2, classifier__max_depth=1, classifier__reg_lambda=0;, score=0.716 total time=   0.4s\n",
      "[CV 3/5] END classifier__learning_rate=0.2, classifier__max_depth=1, classifier__reg_lambda=0;, score=0.718 total time=   0.4s\n",
      "[CV 4/5] END classifier__learning_rate=0.2, classifier__max_depth=1, classifier__reg_lambda=0;, score=0.718 total time=   0.4s\n",
      "[CV 5/5] END classifier__learning_rate=0.2, classifier__max_depth=1, classifier__reg_lambda=0;, score=0.717 total time=   0.4s\n",
      "[CV 1/5] END classifier__learning_rate=0.2, classifier__max_depth=1, classifier__reg_lambda=1;, score=0.712 total time=   0.4s\n",
      "[CV 2/5] END classifier__learning_rate=0.2, classifier__max_depth=1, classifier__reg_lambda=1;, score=0.716 total time=   0.4s\n",
      "[CV 3/5] END classifier__learning_rate=0.2, classifier__max_depth=1, classifier__reg_lambda=1;, score=0.719 total time=   0.4s\n",
      "[CV 4/5] END classifier__learning_rate=0.2, classifier__max_depth=1, classifier__reg_lambda=1;, score=0.717 total time=   0.4s\n",
      "[CV 5/5] END classifier__learning_rate=0.2, classifier__max_depth=1, classifier__reg_lambda=1;, score=0.717 total time=   0.4s\n",
      "[CV 1/5] END classifier__learning_rate=0.2, classifier__max_depth=1, classifier__reg_lambda=10;, score=0.711 total time=   0.4s\n",
      "[CV 2/5] END classifier__learning_rate=0.2, classifier__max_depth=1, classifier__reg_lambda=10;, score=0.717 total time=   0.4s\n",
      "[CV 3/5] END classifier__learning_rate=0.2, classifier__max_depth=1, classifier__reg_lambda=10;, score=0.716 total time=   0.4s\n",
      "[CV 4/5] END classifier__learning_rate=0.2, classifier__max_depth=1, classifier__reg_lambda=10;, score=0.716 total time=   0.4s\n",
      "[CV 5/5] END classifier__learning_rate=0.2, classifier__max_depth=1, classifier__reg_lambda=10;, score=0.715 total time=   0.4s\n",
      "[CV 1/5] END classifier__learning_rate=0.2, classifier__max_depth=2, classifier__reg_lambda=0;, score=0.720 total time=   0.7s\n",
      "[CV 2/5] END classifier__learning_rate=0.2, classifier__max_depth=2, classifier__reg_lambda=0;, score=0.736 total time=   0.7s\n",
      "[CV 3/5] END classifier__learning_rate=0.2, classifier__max_depth=2, classifier__reg_lambda=0;, score=0.734 total time=   0.7s\n",
      "[CV 4/5] END classifier__learning_rate=0.2, classifier__max_depth=2, classifier__reg_lambda=0;, score=0.727 total time=   0.7s\n",
      "[CV 5/5] END classifier__learning_rate=0.2, classifier__max_depth=2, classifier__reg_lambda=0;, score=0.733 total time=   0.7s\n",
      "[CV 1/5] END classifier__learning_rate=0.2, classifier__max_depth=2, classifier__reg_lambda=1;, score=0.722 total time=   0.7s\n",
      "[CV 2/5] END classifier__learning_rate=0.2, classifier__max_depth=2, classifier__reg_lambda=1;, score=0.736 total time=   0.7s\n",
      "[CV 3/5] END classifier__learning_rate=0.2, classifier__max_depth=2, classifier__reg_lambda=1;, score=0.737 total time=   0.7s\n",
      "[CV 4/5] END classifier__learning_rate=0.2, classifier__max_depth=2, classifier__reg_lambda=1;, score=0.726 total time=   0.7s\n",
      "[CV 5/5] END classifier__learning_rate=0.2, classifier__max_depth=2, classifier__reg_lambda=1;, score=0.733 total time=   0.7s\n",
      "[CV 1/5] END classifier__learning_rate=0.2, classifier__max_depth=2, classifier__reg_lambda=10;, score=0.719 total time=   0.7s\n",
      "[CV 2/5] END classifier__learning_rate=0.2, classifier__max_depth=2, classifier__reg_lambda=10;, score=0.736 total time=   0.7s\n",
      "[CV 3/5] END classifier__learning_rate=0.2, classifier__max_depth=2, classifier__reg_lambda=10;, score=0.734 total time=   0.7s\n",
      "[CV 4/5] END classifier__learning_rate=0.2, classifier__max_depth=2, classifier__reg_lambda=10;, score=0.726 total time=   0.7s\n",
      "[CV 5/5] END classifier__learning_rate=0.2, classifier__max_depth=2, classifier__reg_lambda=10;, score=0.737 total time=   0.7s\n",
      "[CV 1/5] END classifier__learning_rate=0.2, classifier__max_depth=3, classifier__reg_lambda=0;, score=0.730 total time=   1.0s\n",
      "[CV 2/5] END classifier__learning_rate=0.2, classifier__max_depth=3, classifier__reg_lambda=0;, score=0.753 total time=   1.0s\n",
      "[CV 3/5] END classifier__learning_rate=0.2, classifier__max_depth=3, classifier__reg_lambda=0;, score=0.741 total time=   1.0s\n",
      "[CV 4/5] END classifier__learning_rate=0.2, classifier__max_depth=3, classifier__reg_lambda=0;, score=0.731 total time=   1.0s\n",
      "[CV 5/5] END classifier__learning_rate=0.2, classifier__max_depth=3, classifier__reg_lambda=0;, score=0.745 total time=   1.0s\n",
      "[CV 1/5] END classifier__learning_rate=0.2, classifier__max_depth=3, classifier__reg_lambda=1;, score=0.731 total time=   1.1s\n",
      "[CV 2/5] END classifier__learning_rate=0.2, classifier__max_depth=3, classifier__reg_lambda=1;, score=0.752 total time=   1.0s\n",
      "[CV 3/5] END classifier__learning_rate=0.2, classifier__max_depth=3, classifier__reg_lambda=1;, score=0.741 total time=   1.0s\n",
      "[CV 4/5] END classifier__learning_rate=0.2, classifier__max_depth=3, classifier__reg_lambda=1;, score=0.735 total time=   1.0s\n",
      "[CV 5/5] END classifier__learning_rate=0.2, classifier__max_depth=3, classifier__reg_lambda=1;, score=0.747 total time=   1.0s\n",
      "[CV 1/5] END classifier__learning_rate=0.2, classifier__max_depth=3, classifier__reg_lambda=10;, score=0.732 total time=   1.1s\n",
      "[CV 2/5] END classifier__learning_rate=0.2, classifier__max_depth=3, classifier__reg_lambda=10;, score=0.747 total time=   1.0s\n",
      "[CV 3/5] END classifier__learning_rate=0.2, classifier__max_depth=3, classifier__reg_lambda=10;, score=0.741 total time=   1.0s\n",
      "[CV 4/5] END classifier__learning_rate=0.2, classifier__max_depth=3, classifier__reg_lambda=10;, score=0.734 total time=   1.1s\n",
      "[CV 5/5] END classifier__learning_rate=0.2, classifier__max_depth=3, classifier__reg_lambda=10;, score=0.750 total time=   1.0s\n",
      "[CV 1/5] END classifier__learning_rate=0.2, classifier__max_depth=5, classifier__reg_lambda=0;, score=0.749 total time=   1.7s\n",
      "[CV 2/5] END classifier__learning_rate=0.2, classifier__max_depth=5, classifier__reg_lambda=0;, score=0.757 total time=   1.7s\n",
      "[CV 3/5] END classifier__learning_rate=0.2, classifier__max_depth=5, classifier__reg_lambda=0;, score=0.755 total time=   1.8s\n",
      "[CV 4/5] END classifier__learning_rate=0.2, classifier__max_depth=5, classifier__reg_lambda=0;, score=0.745 total time=   1.7s\n",
      "[CV 5/5] END classifier__learning_rate=0.2, classifier__max_depth=5, classifier__reg_lambda=0;, score=0.753 total time=   1.7s\n",
      "[CV 1/5] END classifier__learning_rate=0.2, classifier__max_depth=5, classifier__reg_lambda=1;, score=0.745 total time=   1.8s\n",
      "[CV 2/5] END classifier__learning_rate=0.2, classifier__max_depth=5, classifier__reg_lambda=1;, score=0.754 total time=   1.7s\n",
      "[CV 3/5] END classifier__learning_rate=0.2, classifier__max_depth=5, classifier__reg_lambda=1;, score=0.746 total time=   1.7s\n",
      "[CV 4/5] END classifier__learning_rate=0.2, classifier__max_depth=5, classifier__reg_lambda=1;, score=0.747 total time=   1.7s\n",
      "[CV 5/5] END classifier__learning_rate=0.2, classifier__max_depth=5, classifier__reg_lambda=1;, score=0.757 total time=   1.7s\n",
      "[CV 1/5] END classifier__learning_rate=0.2, classifier__max_depth=5, classifier__reg_lambda=10;, score=0.745 total time=   1.7s\n",
      "[CV 2/5] END classifier__learning_rate=0.2, classifier__max_depth=5, classifier__reg_lambda=10;, score=0.755 total time=   1.7s\n",
      "[CV 3/5] END classifier__learning_rate=0.2, classifier__max_depth=5, classifier__reg_lambda=10;, score=0.751 total time=   1.8s\n",
      "[CV 4/5] END classifier__learning_rate=0.2, classifier__max_depth=5, classifier__reg_lambda=10;, score=0.747 total time=   1.6s\n",
      "[CV 5/5] END classifier__learning_rate=0.2, classifier__max_depth=5, classifier__reg_lambda=10;, score=0.756 total time=   1.7s\n",
      "[CV 1/5] END classifier__learning_rate=0.2, classifier__max_depth=8, classifier__reg_lambda=0;, score=0.758 total time=   2.8s\n",
      "[CV 2/5] END classifier__learning_rate=0.2, classifier__max_depth=8, classifier__reg_lambda=0;, score=0.761 total time=   2.7s\n",
      "[CV 3/5] END classifier__learning_rate=0.2, classifier__max_depth=8, classifier__reg_lambda=0;, score=0.758 total time=   2.8s\n",
      "[CV 4/5] END classifier__learning_rate=0.2, classifier__max_depth=8, classifier__reg_lambda=0;, score=0.745 total time=   2.7s\n",
      "[CV 5/5] END classifier__learning_rate=0.2, classifier__max_depth=8, classifier__reg_lambda=0;, score=0.750 total time=   2.8s\n",
      "[CV 1/5] END classifier__learning_rate=0.2, classifier__max_depth=8, classifier__reg_lambda=1;, score=0.751 total time=   2.7s\n",
      "[CV 2/5] END classifier__learning_rate=0.2, classifier__max_depth=8, classifier__reg_lambda=1;, score=0.758 total time=   2.7s\n",
      "[CV 3/5] END classifier__learning_rate=0.2, classifier__max_depth=8, classifier__reg_lambda=1;, score=0.749 total time=   2.7s\n",
      "[CV 4/5] END classifier__learning_rate=0.2, classifier__max_depth=8, classifier__reg_lambda=1;, score=0.742 total time=   2.7s\n",
      "[CV 5/5] END classifier__learning_rate=0.2, classifier__max_depth=8, classifier__reg_lambda=1;, score=0.759 total time=   2.7s\n",
      "[CV 1/5] END classifier__learning_rate=0.2, classifier__max_depth=8, classifier__reg_lambda=10;, score=0.750 total time=   2.7s\n",
      "[CV 2/5] END classifier__learning_rate=0.2, classifier__max_depth=8, classifier__reg_lambda=10;, score=0.766 total time=   2.8s\n",
      "[CV 3/5] END classifier__learning_rate=0.2, classifier__max_depth=8, classifier__reg_lambda=10;, score=0.748 total time=   2.7s\n",
      "[CV 4/5] END classifier__learning_rate=0.2, classifier__max_depth=8, classifier__reg_lambda=10;, score=0.749 total time=   2.8s\n",
      "[CV 5/5] END classifier__learning_rate=0.2, classifier__max_depth=8, classifier__reg_lambda=10;, score=0.765 total time=   2.7s\n",
      "fit realizado con clasificador XGBoost\n"
     ]
    }
   ],
   "source": [
    "pipelines=[]\n",
    "\n",
    "\n",
    "scores_df = pd.DataFrame(columns=['Model', 'F1_Score', 'Precision', 'Recall', \\\n",
    "    'Accuracy','params'])\n",
    "\n",
    "\n",
    "for clf_name, clf, parametros in clfs:\n",
    "    print(clf_name)\n",
    "    print(clf)\n",
    "    print(parametros)\n",
    "    pipeline = Pipeline(steps=[\n",
    "        ('scaler', StandardScaler()),\n",
    "        ('classifier', clf),\n",
    "    ])\n",
    "    pipeline = GridSearchCV(pipeline,verbose=3, param_grid=parametros, refit=True)\n",
    "    pipeline.fit(X_train3, y_train3.values.ravel())\n",
    "    pipelines.append(pipeline)\n",
    "\n",
    "    print(f\"fit realizado con clasificador {clf_name}\")\n",
    "\n",
    "    y_pred3 = pipeline.predict(X_test3)\n",
    "    # F1-Score\n",
    "    fscore = f1_score(y_test3, y_pred3, average='macro')\n",
    "    # Precision\n",
    "    pres = precision_score(y_test3, y_pred3, average='macro')\n",
    "    # Recall\n",
    "    rcall = recall_score(y_test3, y_pred3, average='macro')\n",
    "    # Accuracy\n",
    "    accu = accuracy_score(y_test3, y_pred3)\n",
    "\n",
    "    pipelines.append(pipeline)\n",
    "\n",
    "    scores_df = scores_df.append({'Model' : clf_name, \n",
    "                                    'F1_Score' : fscore,\n",
    "                                    'Precision' : pres,\n",
    "                                    'Recall' : rcall,\n",
    "                                    'Accuracy' : accu,\n",
    "                                    'params':str(pipeline.best_params_)\n",
    "                                    }, \n",
    "                                    ignore_index=True)\n"
   ]
  },
  {
   "cell_type": "code",
   "execution_count": 15,
   "metadata": {},
   "outputs": [
    {
     "data": {
      "text/html": [
       "<div>\n",
       "<style scoped>\n",
       "    .dataframe tbody tr th:only-of-type {\n",
       "        vertical-align: middle;\n",
       "    }\n",
       "\n",
       "    .dataframe tbody tr th {\n",
       "        vertical-align: top;\n",
       "    }\n",
       "\n",
       "    .dataframe thead th {\n",
       "        text-align: right;\n",
       "    }\n",
       "</style>\n",
       "<table border=\"1\" class=\"dataframe\">\n",
       "  <thead>\n",
       "    <tr style=\"text-align: right;\">\n",
       "      <th></th>\n",
       "      <th>Model</th>\n",
       "      <th>F1_Score</th>\n",
       "      <th>Precision</th>\n",
       "      <th>Recall</th>\n",
       "      <th>Accuracy</th>\n",
       "      <th>params</th>\n",
       "    </tr>\n",
       "  </thead>\n",
       "  <tbody>\n",
       "    <tr>\n",
       "      <th>0</th>\n",
       "      <td>Logistic Regression</td>\n",
       "      <td>0.478264</td>\n",
       "      <td>0.488719</td>\n",
       "      <td>0.490823</td>\n",
       "      <td>0.711237</td>\n",
       "      <td>{'classifier__C': 10}</td>\n",
       "    </tr>\n",
       "    <tr>\n",
       "      <th>1</th>\n",
       "      <td>K-Nearest Neighbors</td>\n",
       "      <td>0.589644</td>\n",
       "      <td>0.635390</td>\n",
       "      <td>0.573425</td>\n",
       "      <td>0.738931</td>\n",
       "      <td>{'classifier__n_neighbors': 11, 'classifier__w...</td>\n",
       "    </tr>\n",
       "    <tr>\n",
       "      <th>2</th>\n",
       "      <td>SVM</td>\n",
       "      <td>0.547913</td>\n",
       "      <td>0.647551</td>\n",
       "      <td>0.536868</td>\n",
       "      <td>0.731439</td>\n",
       "      <td>{'classifier__C': 10, 'classifier__gamma': 0.1...</td>\n",
       "    </tr>\n",
       "    <tr>\n",
       "      <th>3</th>\n",
       "      <td>MLP</td>\n",
       "      <td>0.546653</td>\n",
       "      <td>0.646184</td>\n",
       "      <td>0.537748</td>\n",
       "      <td>0.732050</td>\n",
       "      <td>{'classifier__activation': 'relu', 'classifier...</td>\n",
       "    </tr>\n",
       "    <tr>\n",
       "      <th>4</th>\n",
       "      <td>Decission Tree</td>\n",
       "      <td>0.573161</td>\n",
       "      <td>0.571794</td>\n",
       "      <td>0.574657</td>\n",
       "      <td>0.694318</td>\n",
       "      <td>{}</td>\n",
       "    </tr>\n",
       "    <tr>\n",
       "      <th>5</th>\n",
       "      <td>Random Forest</td>\n",
       "      <td>0.621563</td>\n",
       "      <td>0.679930</td>\n",
       "      <td>0.601135</td>\n",
       "      <td>0.764752</td>\n",
       "      <td>{'classifier__n_estimators': 700}</td>\n",
       "    </tr>\n",
       "    <tr>\n",
       "      <th>6</th>\n",
       "      <td>XGBoost</td>\n",
       "      <td>0.585928</td>\n",
       "      <td>0.696757</td>\n",
       "      <td>0.566549</td>\n",
       "      <td>0.753472</td>\n",
       "      <td>{'classifier__learning_rate': 0.1, 'classifier...</td>\n",
       "    </tr>\n",
       "  </tbody>\n",
       "</table>\n",
       "</div>"
      ],
      "text/plain": [
       "                 Model  F1_Score  Precision    Recall  Accuracy  \\\n",
       "0  Logistic Regression  0.478264   0.488719  0.490823  0.711237   \n",
       "1  K-Nearest Neighbors  0.589644   0.635390  0.573425  0.738931   \n",
       "2                  SVM  0.547913   0.647551  0.536868  0.731439   \n",
       "3                  MLP  0.546653   0.646184  0.537748  0.732050   \n",
       "4       Decission Tree  0.573161   0.571794  0.574657  0.694318   \n",
       "5        Random Forest  0.621563   0.679930  0.601135  0.764752   \n",
       "6              XGBoost  0.585928   0.696757  0.566549  0.753472   \n",
       "\n",
       "                                              params  \n",
       "0                              {'classifier__C': 10}  \n",
       "1  {'classifier__n_neighbors': 11, 'classifier__w...  \n",
       "2  {'classifier__C': 10, 'classifier__gamma': 0.1...  \n",
       "3  {'classifier__activation': 'relu', 'classifier...  \n",
       "4                                                 {}  \n",
       "5                  {'classifier__n_estimators': 700}  \n",
       "6  {'classifier__learning_rate': 0.1, 'classifier...  "
      ]
     },
     "execution_count": 15,
     "metadata": {},
     "output_type": "execute_result"
    }
   ],
   "source": [
    "scores_df"
   ]
  },
  {
   "cell_type": "code",
   "execution_count": 20,
   "metadata": {},
   "outputs": [
    {
     "data": {
      "text/html": [
       "<style>#sk-container-id-1 {color: black;background-color: white;}#sk-container-id-1 pre{padding: 0;}#sk-container-id-1 div.sk-toggleable {background-color: white;}#sk-container-id-1 label.sk-toggleable__label {cursor: pointer;display: block;width: 100%;margin-bottom: 0;padding: 0.3em;box-sizing: border-box;text-align: center;}#sk-container-id-1 label.sk-toggleable__label-arrow:before {content: \"▸\";float: left;margin-right: 0.25em;color: #696969;}#sk-container-id-1 label.sk-toggleable__label-arrow:hover:before {color: black;}#sk-container-id-1 div.sk-estimator:hover label.sk-toggleable__label-arrow:before {color: black;}#sk-container-id-1 div.sk-toggleable__content {max-height: 0;max-width: 0;overflow: hidden;text-align: left;background-color: #f0f8ff;}#sk-container-id-1 div.sk-toggleable__content pre {margin: 0.2em;color: black;border-radius: 0.25em;background-color: #f0f8ff;}#sk-container-id-1 input.sk-toggleable__control:checked~div.sk-toggleable__content {max-height: 200px;max-width: 100%;overflow: auto;}#sk-container-id-1 input.sk-toggleable__control:checked~label.sk-toggleable__label-arrow:before {content: \"▾\";}#sk-container-id-1 div.sk-estimator input.sk-toggleable__control:checked~label.sk-toggleable__label {background-color: #d4ebff;}#sk-container-id-1 div.sk-label input.sk-toggleable__control:checked~label.sk-toggleable__label {background-color: #d4ebff;}#sk-container-id-1 input.sk-hidden--visually {border: 0;clip: rect(1px 1px 1px 1px);clip: rect(1px, 1px, 1px, 1px);height: 1px;margin: -1px;overflow: hidden;padding: 0;position: absolute;width: 1px;}#sk-container-id-1 div.sk-estimator {font-family: monospace;background-color: #f0f8ff;border: 1px dotted black;border-radius: 0.25em;box-sizing: border-box;margin-bottom: 0.5em;}#sk-container-id-1 div.sk-estimator:hover {background-color: #d4ebff;}#sk-container-id-1 div.sk-parallel-item::after {content: \"\";width: 100%;border-bottom: 1px solid gray;flex-grow: 1;}#sk-container-id-1 div.sk-label:hover label.sk-toggleable__label {background-color: #d4ebff;}#sk-container-id-1 div.sk-serial::before {content: \"\";position: absolute;border-left: 1px solid gray;box-sizing: border-box;top: 0;bottom: 0;left: 50%;z-index: 0;}#sk-container-id-1 div.sk-serial {display: flex;flex-direction: column;align-items: center;background-color: white;padding-right: 0.2em;padding-left: 0.2em;position: relative;}#sk-container-id-1 div.sk-item {position: relative;z-index: 1;}#sk-container-id-1 div.sk-parallel {display: flex;align-items: stretch;justify-content: center;background-color: white;position: relative;}#sk-container-id-1 div.sk-item::before, #sk-container-id-1 div.sk-parallel-item::before {content: \"\";position: absolute;border-left: 1px solid gray;box-sizing: border-box;top: 0;bottom: 0;left: 50%;z-index: -1;}#sk-container-id-1 div.sk-parallel-item {display: flex;flex-direction: column;z-index: 1;position: relative;background-color: white;}#sk-container-id-1 div.sk-parallel-item:first-child::after {align-self: flex-end;width: 50%;}#sk-container-id-1 div.sk-parallel-item:last-child::after {align-self: flex-start;width: 50%;}#sk-container-id-1 div.sk-parallel-item:only-child::after {width: 0;}#sk-container-id-1 div.sk-dashed-wrapped {border: 1px dashed gray;margin: 0 0.4em 0.5em 0.4em;box-sizing: border-box;padding-bottom: 0.4em;background-color: white;}#sk-container-id-1 div.sk-label label {font-family: monospace;font-weight: bold;display: inline-block;line-height: 1.2em;}#sk-container-id-1 div.sk-label-container {text-align: center;}#sk-container-id-1 div.sk-container {/* jupyter's `normalize.less` sets `[hidden] { display: none; }` but bootstrap.min.css set `[hidden] { display: none !important; }` so we also need the `!important` here to be able to override the default hidden behavior on the sphinx rendered scikit-learn.org. See: https://github.com/scikit-learn/scikit-learn/issues/21755 */display: inline-block !important;position: relative;}#sk-container-id-1 div.sk-text-repr-fallback {display: none;}</style><div id=\"sk-container-id-1\" class=\"sk-top-container\"><div class=\"sk-text-repr-fallback\"><pre>GridSearchCV(estimator=Pipeline(steps=[(&#x27;scaler&#x27;, StandardScaler()),\n",
       "                                       (&#x27;classifier&#x27;, SVC(random_state=1000))]),\n",
       "             param_grid={&#x27;classifier__C&#x27;: [0.1, 1, 10, 100],\n",
       "                         &#x27;classifier__gamma&#x27;: [1, 0.1, 0.01, 0.001, 0.0001],\n",
       "                         &#x27;classifier__kernel&#x27;: [&#x27;rbf&#x27;]},\n",
       "             verbose=3)</pre><b>In a Jupyter environment, please rerun this cell to show the HTML representation or trust the notebook. <br />On GitHub, the HTML representation is unable to render, please try loading this page with nbviewer.org.</b></div><div class=\"sk-container\" hidden><div class=\"sk-item sk-dashed-wrapped\"><div class=\"sk-label-container\"><div class=\"sk-label sk-toggleable\"><input class=\"sk-toggleable__control sk-hidden--visually\" id=\"sk-estimator-id-1\" type=\"checkbox\" ><label for=\"sk-estimator-id-1\" class=\"sk-toggleable__label sk-toggleable__label-arrow\">GridSearchCV</label><div class=\"sk-toggleable__content\"><pre>GridSearchCV(estimator=Pipeline(steps=[(&#x27;scaler&#x27;, StandardScaler()),\n",
       "                                       (&#x27;classifier&#x27;, SVC(random_state=1000))]),\n",
       "             param_grid={&#x27;classifier__C&#x27;: [0.1, 1, 10, 100],\n",
       "                         &#x27;classifier__gamma&#x27;: [1, 0.1, 0.01, 0.001, 0.0001],\n",
       "                         &#x27;classifier__kernel&#x27;: [&#x27;rbf&#x27;]},\n",
       "             verbose=3)</pre></div></div></div><div class=\"sk-parallel\"><div class=\"sk-parallel-item\"><div class=\"sk-item\"><div class=\"sk-label-container\"><div class=\"sk-label sk-toggleable\"><input class=\"sk-toggleable__control sk-hidden--visually\" id=\"sk-estimator-id-2\" type=\"checkbox\" ><label for=\"sk-estimator-id-2\" class=\"sk-toggleable__label sk-toggleable__label-arrow\">estimator: Pipeline</label><div class=\"sk-toggleable__content\"><pre>Pipeline(steps=[(&#x27;scaler&#x27;, StandardScaler()),\n",
       "                (&#x27;classifier&#x27;, SVC(random_state=1000))])</pre></div></div></div><div class=\"sk-serial\"><div class=\"sk-item\"><div class=\"sk-serial\"><div class=\"sk-item\"><div class=\"sk-estimator sk-toggleable\"><input class=\"sk-toggleable__control sk-hidden--visually\" id=\"sk-estimator-id-3\" type=\"checkbox\" ><label for=\"sk-estimator-id-3\" class=\"sk-toggleable__label sk-toggleable__label-arrow\">StandardScaler</label><div class=\"sk-toggleable__content\"><pre>StandardScaler()</pre></div></div></div><div class=\"sk-item\"><div class=\"sk-estimator sk-toggleable\"><input class=\"sk-toggleable__control sk-hidden--visually\" id=\"sk-estimator-id-4\" type=\"checkbox\" ><label for=\"sk-estimator-id-4\" class=\"sk-toggleable__label sk-toggleable__label-arrow\">SVC</label><div class=\"sk-toggleable__content\"><pre>SVC(random_state=1000)</pre></div></div></div></div></div></div></div></div></div></div></div></div>"
      ],
      "text/plain": [
       "GridSearchCV(estimator=Pipeline(steps=[('scaler', StandardScaler()),\n",
       "                                       ('classifier', SVC(random_state=1000))]),\n",
       "             param_grid={'classifier__C': [0.1, 1, 10, 100],\n",
       "                         'classifier__gamma': [1, 0.1, 0.01, 0.001, 0.0001],\n",
       "                         'classifier__kernel': ['rbf']},\n",
       "             verbose=3)"
      ]
     },
     "execution_count": 20,
     "metadata": {},
     "output_type": "execute_result"
    }
   ],
   "source": [
    "pipelines[indice_mejor.values[0]]"
   ]
  },
  {
   "cell_type": "code",
   "execution_count": 17,
   "metadata": {},
   "outputs": [
    {
     "name": "stdout",
     "output_type": "stream",
     "text": [
      "mejor resultado en 5    Random Forest\n",
      "Name: Model, dtype: object\n"
     ]
    }
   ],
   "source": [
    "# Preparamos salida.\n",
    "indice_mejor=scores_df[['Accuracy']].idxmax()\n",
    "print(f\"mejor resultado en {scores_df['Model'][indice_mejor]}\")\n",
    "salida_prediccion=pipelines[indice_mejor.values[0]].predict(X_real_test)"
   ]
  },
  {
   "cell_type": "code",
   "execution_count": 18,
   "metadata": {},
   "outputs": [
    {
     "name": "stdout",
     "output_type": "stream",
     "text": [
      "Aquí escribiría datos/respuesta4.csv\n"
     ]
    }
   ],
   "source": [
    "from pathlib import Path\n",
    "\n",
    "df_xtest_three[\"respuesta\"]=salida_prediccion\n",
    "df_xtest_three[\"status_group\"]=df_xtest_three[\"respuesta\"].replace([0, 1,2],['functional', 'functional needs repair','non functional'])\n",
    "\n",
    "ruta='datos/'\n",
    "nom='respuesta'\n",
    "num=3\n",
    "converted_num = \"{}\".format(num)\n",
    "file=ruta+nom+converted_num+'.csv'\n",
    "escrito=False\n",
    "num=1\n",
    "while escrito==False:\n",
    "    converted_num = \"{}\".format(num)\n",
    "    file=ruta+nom+converted_num+'.csv'\n",
    "    path=Path(file)\n",
    "    if path.is_file():\n",
    "        num=num+1\n",
    "        if num==100:\n",
    "            escrito=False\n",
    "            print(\"algo falla en el bucle\")\n",
    "    else:\n",
    "        print(f\"Aquí escribiría {file}\")\n",
    "        #df_xtest_three['status_group'].to_csv(file) \n",
    "        escrito=True\n",
    "\n",
    "\n",
    "\n",
    "\n"
   ]
  },
  {
   "cell_type": "code",
   "execution_count": 23,
   "metadata": {},
   "outputs": [
    {
     "data": {
      "text/plain": [
       "['results/scores_df_pipes1.z']"
      ]
     },
     "execution_count": 23,
     "metadata": {},
     "output_type": "execute_result"
    }
   ],
   "source": [
    "# joblib.dump(pipelines,'results/pipes1.z')\n",
    "# joblib.dump(pipelines,'results/scores_df_pipes1.z')"
   ]
  }
 ],
 "metadata": {
  "kernelspec": {
   "display_name": "Python 3.9.13 64-bit (windows store)",
   "language": "python",
   "name": "python3"
  },
  "language_info": {
   "codemirror_mode": {
    "name": "ipython",
    "version": 3
   },
   "file_extension": ".py",
   "mimetype": "text/x-python",
   "name": "python",
   "nbconvert_exporter": "python",
   "pygments_lexer": "ipython3",
   "version": "3.9.13"
  },
  "orig_nbformat": 4,
  "vscode": {
   "interpreter": {
    "hash": "df2f563f9405832242b2cc9971b3350a36eba2cefa78a66d80eae6dbc2791b83"
   }
  }
 },
 "nbformat": 4,
 "nbformat_minor": 2
}
