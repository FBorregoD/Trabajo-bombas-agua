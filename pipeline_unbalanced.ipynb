{
 "cells": [
  {
   "cell_type": "code",
   "execution_count": 82,
   "metadata": {},
   "outputs": [],
   "source": [
    "import joblib\n",
    "import numpy as np\n",
    "import pandas as pd\n",
    "from sklearn.model_selection import train_test_split\n",
    "from sklearn.preprocessing import StandardScaler\n",
    "from sklearn.impute import SimpleImputer"
   ]
  },
  {
   "cell_type": "code",
   "execution_count": 83,
   "metadata": {},
   "outputs": [],
   "source": [
    "from imblearn.pipeline import Pipeline\n",
    "\n",
    "from sklearn.ensemble import RandomForestClassifier\n",
    "from sklearn.metrics import accuracy_score\n",
    "from sklearn.metrics import classification_report\n",
    "from sklearn.metrics import confusion_matrix\n",
    "\n",
    "from imblearn.over_sampling import RandomOverSampler\n",
    "from imblearn.under_sampling import RandomUnderSampler\n",
    "from sklearn.model_selection import cross_val_score"
   ]
  },
  {
   "cell_type": "code",
   "execution_count": 84,
   "metadata": {},
   "outputs": [],
   "source": [
    "ruta='datos/'\n",
    "df_train_three=joblib.load(ruta+'df_train_datos2.pkl')\n",
    "df_xtest_three=joblib.load(ruta+'df_xtest_datos2.pkl')\n",
    "\n",
    "\n",
    "\n",
    "scaler = StandardScaler()\n",
    "\n",
    "X=df_train_three.loc[:,~df_train_three.columns.isin(['target_duo', 'target_trio'])]\n",
    "X_real_test=df_xtest_three.loc[:,~df_xtest_three.columns.isin(['target_duo', 'target_trio'])]\n",
    "y2=df_train_three.loc[:,df_train_three.columns.isin(['target_duo'])]\n",
    "y3=df_train_three.loc[:,df_train_three.columns.isin(['target_trio'])]\n",
    "\n",
    "scaler.fit(X)\n",
    "X=scaler.transform(X)\n",
    "X_real_test=scaler.transform(X_real_test)\n",
    "\n",
    "test_size=0.7\n",
    "random_state=1000\n",
    "X_train2, X_test2, y_train_2, y_test_2 = train_test_split(X, y2, test_size=test_size, random_state=random_state)\n",
    "X_train3, X_test3, y_train_3, y_test_3 = train_test_split(X, y3, test_size=test_size, random_state=random_state)"
   ]
  },
  {
   "cell_type": "markdown",
   "metadata": {},
   "source": [
    "# Set balanceado\n",
    "\n",
    "Podemos observar que el añadido del oversampler y under apenas tiene efecto. En ambos casos empeora la calidad del resultado."
   ]
  },
  {
   "cell_type": "code",
   "execution_count": 85,
   "metadata": {},
   "outputs": [],
   "source": [
    "steps=[('scaler',StandardScaler()),('RFC',RandomForestClassifier(n_estimators=900,n_jobs=-1))]\n",
    "tubo=Pipeline(steps)\n",
    "\n",
    "steps2=[('over',RandomOverSampler()),('scaler',StandardScaler()),('RFC',RandomForestClassifier(n_estimators=900,n_jobs=-1))]\n",
    "tubo2=Pipeline(steps2)\n",
    "\n",
    "steps3=[('under',RandomUnderSampler()),('scaler',StandardScaler()),('RFC',RandomForestClassifier(n_estimators=900,n_jobs=-1))]\n",
    "tubo3=Pipeline(steps3)\n"
   ]
  },
  {
   "cell_type": "code",
   "execution_count": 86,
   "metadata": {},
   "outputs": [
    {
     "data": {
      "text/plain": [
       "0.7911255411255411"
      ]
     },
     "execution_count": 86,
     "metadata": {},
     "output_type": "execute_result"
    }
   ],
   "source": [
    "# Fit pipeline on training data\n",
    "tubo.fit(X_train2, y_train_2.values.ravel())\n",
    "\n",
    "# Score pipeline on testing data\n",
    "tubo.score(X_test2, y_test_2.values.ravel())"
   ]
  },
  {
   "cell_type": "code",
   "execution_count": 87,
   "metadata": {},
   "outputs": [
    {
     "data": {
      "text/plain": [
       "0.7905002405002405"
      ]
     },
     "execution_count": 87,
     "metadata": {},
     "output_type": "execute_result"
    }
   ],
   "source": [
    "# Fit pipeline on training data\n",
    "tubo2.fit(X_train2, y_train_2.values.ravel())\n",
    "\n",
    "# Score pipeline on testing data\n",
    "tubo2.score(X_test2, y_test_2.values.ravel())"
   ]
  },
  {
   "cell_type": "code",
   "execution_count": 88,
   "metadata": {},
   "outputs": [
    {
     "data": {
      "text/plain": [
       "0.7869408369408369"
      ]
     },
     "execution_count": 88,
     "metadata": {},
     "output_type": "execute_result"
    }
   ],
   "source": [
    "# Fit pipeline on training data\n",
    "tubo3.fit(X_train2, y_train_2.values.ravel())\n",
    "\n",
    "# Score pipeline on testing data\n",
    "tubo3.score(X_test2, y_test_2.values.ravel())"
   ]
  },
  {
   "cell_type": "markdown",
   "metadata": {},
   "source": [
    "# Set no balanceado \n",
    "\n",
    "No parece que a priori el balanceo mejore el resultado"
   ]
  },
  {
   "cell_type": "code",
   "execution_count": 89,
   "metadata": {},
   "outputs": [
    {
     "data": {
      "text/plain": [
       "0.773953823953824"
      ]
     },
     "execution_count": 89,
     "metadata": {},
     "output_type": "execute_result"
    }
   ],
   "source": [
    "# Fit pipeline on training data\n",
    "tubo.fit(X_train3, y_train_3.values.ravel())\n",
    "\n",
    "# Score pipeline on testing data\n",
    "tubo.score(X_test3, y_test_3.values.ravel())"
   ]
  },
  {
   "cell_type": "code",
   "execution_count": 90,
   "metadata": {},
   "outputs": [
    {
     "data": {
      "text/plain": [
       "0.7648148148148148"
      ]
     },
     "execution_count": 90,
     "metadata": {},
     "output_type": "execute_result"
    }
   ],
   "source": [
    "# Fit pipeline on training data\n",
    "tubo2.fit(X_train3, y_train_3.values.ravel())\n",
    "\n",
    "# Score pipeline on testing data\n",
    "tubo2.score(X_test3, y_test_3.values.ravel())"
   ]
  },
  {
   "cell_type": "code",
   "execution_count": 91,
   "metadata": {},
   "outputs": [
    {
     "data": {
      "text/plain": [
       "0.6464405964405965"
      ]
     },
     "execution_count": 91,
     "metadata": {},
     "output_type": "execute_result"
    }
   ],
   "source": [
    "# Fit pipeline on training data\n",
    "tubo3.fit(X_train3, y_train_3.values.ravel())\n",
    "\n",
    "# Score pipeline on testing data\n",
    "tubo3.score(X_test3, y_test_3.values.ravel())"
   ]
  },
  {
   "cell_type": "code",
   "execution_count": 92,
   "metadata": {},
   "outputs": [],
   "source": [
    "# Preparamos salida.\n",
    "\n",
    "salida_prediccion=tubo.predict(X_real_test)"
   ]
  },
  {
   "cell_type": "code",
   "execution_count": 93,
   "metadata": {},
   "outputs": [],
   "source": [
    "df_xtest_three[\"respuesta\"]=salida_prediccion\n",
    "df_xtest_three[\"status_group\"]=df_xtest_three[\"respuesta\"].replace([0, 1,2],['functional', 'functional needs repair','non functional'])\n"
   ]
  },
  {
   "cell_type": "code",
   "execution_count": 94,
   "metadata": {},
   "outputs": [
    {
     "data": {
      "text/plain": [
       "functional                 9322\n",
       "non functional             5128\n",
       "functional needs repair     400\n",
       "Name: status_group, dtype: int64"
      ]
     },
     "execution_count": 94,
     "metadata": {},
     "output_type": "execute_result"
    }
   ],
   "source": [
    "df_xtest_three['status_group'].value_counts()"
   ]
  },
  {
   "cell_type": "code",
   "execution_count": 95,
   "metadata": {},
   "outputs": [
    {
     "data": {
      "text/plain": [
       "id\n",
       "50785    non functional\n",
       "51630        functional\n",
       "17168    non functional\n",
       "45559    non functional\n",
       "49871        functional\n",
       "Name: status_group, dtype: object"
      ]
     },
     "execution_count": 95,
     "metadata": {},
     "output_type": "execute_result"
    }
   ],
   "source": [
    "df_xtest_three['status_group'].head()"
   ]
  },
  {
   "cell_type": "code",
   "execution_count": 96,
   "metadata": {},
   "outputs": [],
   "source": [
    "# escribe respuesta\n",
    "#df_xtest_three['status_group'].to_csv('datos/'+'respuesta2.csv') Su modelo tenía una puntuación de 0.77"
   ]
  }
 ],
 "metadata": {
  "kernelspec": {
   "display_name": "Python 3.9.13 64-bit (windows store)",
   "language": "python",
   "name": "python3"
  },
  "language_info": {
   "codemirror_mode": {
    "name": "ipython",
    "version": 3
   },
   "file_extension": ".py",
   "mimetype": "text/x-python",
   "name": "python",
   "nbconvert_exporter": "python",
   "pygments_lexer": "ipython3",
   "version": "3.9.13"
  },
  "orig_nbformat": 4,
  "vscode": {
   "interpreter": {
    "hash": "df2f563f9405832242b2cc9971b3350a36eba2cefa78a66d80eae6dbc2791b83"
   }
  }
 },
 "nbformat": 4,
 "nbformat_minor": 2
}
