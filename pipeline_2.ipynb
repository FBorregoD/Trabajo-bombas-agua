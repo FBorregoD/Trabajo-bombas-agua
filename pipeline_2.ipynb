{
 "cells": [
  {
   "cell_type": "code",
   "execution_count": 1,
   "metadata": {},
   "outputs": [],
   "source": [
    "import joblib\n",
    "import numpy as np\n",
    "import pandas as pd\n"
   ]
  },
  {
   "cell_type": "code",
   "execution_count": 6,
   "metadata": {},
   "outputs": [],
   "source": [
    "import joblib\n",
    "import numpy as np\n",
    "import pandas as pd\n",
    "\n",
    "from sklearn.model_selection import train_test_split\n",
    "from sklearn.pipeline import make_pipeline\n",
    "from sklearn.metrics import accuracy_score\n",
    "from sklearn.metrics import f1_score\n",
    "from sklearn.metrics import recall_score\n",
    "from sklearn.metrics import precision_score\n",
    "from sklearn.metrics import classification_report\n",
    "\n",
    "from sklearn.preprocessing import StandardScaler\n",
    "\n",
    "\n",
    "from sklearn.linear_model import LogisticRegression\n",
    "from sklearn.naive_bayes import BernoulliNB\n",
    "from sklearn.neighbors import KNeighborsClassifier\n",
    "from sklearn.svm import SVC\n",
    "from sklearn.tree import DecisionTreeClassifier\n",
    "from sklearn.ensemble import RandomForestClassifier, ExtraTreesClassifier\n",
    "from sklearn.neural_network import MLPClassifier\n",
    "from xgboost import XGBClassifier\n",
    "\n",
    "\n",
    "\n",
    "from sklearn.pipeline import Pipeline\n",
    "from sklearn.model_selection import GridSearchCV\n",
    "\n"
   ]
  },
  {
   "cell_type": "code",
   "execution_count": 3,
   "metadata": {},
   "outputs": [],
   "source": [
    "ruta='datos/'\n",
    "df_train_three=joblib.load(ruta+'df_train_datos2.pkl')\n",
    "df_xtest_three=joblib.load(ruta+'df_xtest_datos2.pkl')\n",
    "\n",
    "\n",
    "\n",
    "X=df_train_three.loc[:,~df_train_three.columns.isin(['target_duo', 'target_trio'])]\n",
    "X_real_test=df_xtest_three.loc[:,~df_xtest_three.columns.isin(['target_duo', 'target_trio'])]\n",
    "y2=df_train_three.loc[:,df_train_three.columns.isin(['target_duo'])]\n",
    "y3=df_train_three.loc[:,df_train_three.columns.isin(['target_trio'])]\n",
    "\n",
    "\n",
    "test_size=0.7\n",
    "random_state=1000\n",
    "X_train2, X_test2, y_train2, y_test2 = train_test_split(X, y2, \\\n",
    "    test_size=test_size, random_state=random_state)\n",
    "X_train3, X_test3, y_train3, y_test3 = train_test_split(X, y3, \\\n",
    "    test_size=test_size, random_state=random_state)"
   ]
  },
  {
   "cell_type": "code",
   "execution_count": 9,
   "metadata": {},
   "outputs": [],
   "source": [
    "\n",
    "log_reg = LogisticRegression(random_state=random_state)\n",
    "nb = BernoulliNB()\n",
    "knn = KNeighborsClassifier()\n",
    "svm = SVC(random_state=random_state)\n",
    "mlp = MLPClassifier(max_iter=500,random_state=random_state)\n",
    "dt = DecisionTreeClassifier(random_state=random_state)\n",
    "et = ExtraTreesClassifier(random_state=random_state)\n",
    "rf = RandomForestClassifier(random_state=random_state)\n",
    "xgb = XGBClassifier(random_state=random_state, verbosity=0)\n",
    "\n",
    "clfs = [\n",
    "        ('Logistic Regression', log_reg), \n",
    "        ('Naive Bayes', nb),\n",
    "        ('K-Nearest Neighbors', knn), \n",
    "        ('SVM', svm), \n",
    "        ('MLP', mlp), \n",
    "        ('Decision Tree', dt), \n",
    "        ('Extra Trees', et), \n",
    "        ('Random Forest', rf), \n",
    "        ('XGBoost', xgb)\n",
    "        ]\n"
   ]
  },
  {
   "cell_type": "code",
   "execution_count": 17,
   "metadata": {},
   "outputs": [
    {
     "name": "stdout",
     "output_type": "stream",
     "text": [
      "trabajando clasificador Naive Bayes\n",
      "fit realizado con clasificador Naive Bayes\n",
      "trabajando clasificador K-Nearest Neighbors\n",
      "fit realizado con clasificador K-Nearest Neighbors\n",
      "trabajando clasificador SVM\n",
      "fit realizado con clasificador SVM\n",
      "trabajando clasificador MLP\n",
      "fit realizado con clasificador MLP\n",
      "trabajando clasificador Decision Tree\n",
      "fit realizado con clasificador Decision Tree\n",
      "trabajando clasificador Extra Trees\n",
      "fit realizado con clasificador Extra Trees\n",
      "trabajando clasificador Random Forest\n",
      "fit realizado con clasificador Random Forest\n",
      "trabajando clasificador XGBoost\n",
      "fit realizado con clasificador XGBoost\n"
     ]
    }
   ],
   "source": [
    "pipelines = []\n",
    "\n",
    "scores_df = pd.DataFrame(columns=['Model', 'F1_Score', 'Precision', 'Recall', \\\n",
    "    'Accuracy'])\n",
    "\n",
    "\n",
    "for clf_name, clf in clfs:\n",
    "    print(f\"trabajando clasificador {clf_name}\")\n",
    "    pipeline = Pipeline(steps=[\n",
    "                                ('scaler', StandardScaler()),\n",
    "                                ('classifier', clf)\n",
    "                                ]\n",
    "                        )\n",
    "    pipeline.fit(X_train3, y_train3.values.ravel())\n",
    "\n",
    "    print(f\"fit realizado con clasificador {clf_name}\")\n",
    "\n",
    "    y_pred3 = pipeline.predict(X_test3)\n",
    "    # F1-Score\n",
    "    fscore = f1_score(y_test3, y_pred3, average='macro')\n",
    "    # Precision\n",
    "    pres = precision_score(y_test3, y_pred3, average='macro')\n",
    "    # Recall\n",
    "    rcall = recall_score(y_test3, y_pred3, average='macro')\n",
    "    # Accuracy\n",
    "    accu = accuracy_score(y_test3, y_pred3)\n",
    "\n",
    "    pipelines.append(pipeline)\n",
    "\n",
    "    scores_df = scores_df.append({\n",
    "                                    'Model' : clf_name, \n",
    "                                    'F1_Score' : fscore,\n",
    "                                    'Precision' : pres,\n",
    "                                    'Recall' : rcall,\n",
    "                                    'Accuracy' : accu,\n",
    "                                    }, \n",
    "                                    ignore_index=True)\n",
    "\n",
    "            \n"
   ]
  },
  {
   "cell_type": "code",
   "execution_count": 18,
   "metadata": {},
   "outputs": [
    {
     "data": {
      "text/html": [
       "<div>\n",
       "<style scoped>\n",
       "    .dataframe tbody tr th:only-of-type {\n",
       "        vertical-align: middle;\n",
       "    }\n",
       "\n",
       "    .dataframe tbody tr th {\n",
       "        vertical-align: top;\n",
       "    }\n",
       "\n",
       "    .dataframe thead th {\n",
       "        text-align: right;\n",
       "    }\n",
       "</style>\n",
       "<table border=\"1\" class=\"dataframe\">\n",
       "  <thead>\n",
       "    <tr style=\"text-align: right;\">\n",
       "      <th></th>\n",
       "      <th>Model</th>\n",
       "      <th>F1_Score</th>\n",
       "      <th>Precision</th>\n",
       "      <th>Recall</th>\n",
       "      <th>Accuracy</th>\n",
       "    </tr>\n",
       "  </thead>\n",
       "  <tbody>\n",
       "    <tr>\n",
       "      <th>0</th>\n",
       "      <td>Naive Bayes</td>\n",
       "      <td>0.477321</td>\n",
       "      <td>0.547113</td>\n",
       "      <td>0.487548</td>\n",
       "      <td>0.702189</td>\n",
       "    </tr>\n",
       "    <tr>\n",
       "      <th>1</th>\n",
       "      <td>K-Nearest Neighbors</td>\n",
       "      <td>0.584479</td>\n",
       "      <td>0.626050</td>\n",
       "      <td>0.569252</td>\n",
       "      <td>0.734560</td>\n",
       "    </tr>\n",
       "    <tr>\n",
       "      <th>2</th>\n",
       "      <td>SVM</td>\n",
       "      <td>0.521556</td>\n",
       "      <td>0.673769</td>\n",
       "      <td>0.515501</td>\n",
       "      <td>0.724050</td>\n",
       "    </tr>\n",
       "    <tr>\n",
       "      <th>3</th>\n",
       "      <td>MLP</td>\n",
       "      <td>0.561151</td>\n",
       "      <td>0.624019</td>\n",
       "      <td>0.548529</td>\n",
       "      <td>0.732492</td>\n",
       "    </tr>\n",
       "    <tr>\n",
       "      <th>4</th>\n",
       "      <td>Decision Tree</td>\n",
       "      <td>0.582584</td>\n",
       "      <td>0.581183</td>\n",
       "      <td>0.584202</td>\n",
       "      <td>0.701852</td>\n",
       "    </tr>\n",
       "    <tr>\n",
       "      <th>5</th>\n",
       "      <td>Extra Trees</td>\n",
       "      <td>0.634218</td>\n",
       "      <td>0.673080</td>\n",
       "      <td>0.615724</td>\n",
       "      <td>0.764382</td>\n",
       "    </tr>\n",
       "    <tr>\n",
       "      <th>6</th>\n",
       "      <td>Random Forest</td>\n",
       "      <td>0.626616</td>\n",
       "      <td>0.688646</td>\n",
       "      <td>0.605635</td>\n",
       "      <td>0.770803</td>\n",
       "    </tr>\n",
       "    <tr>\n",
       "      <th>7</th>\n",
       "      <td>XGBoost</td>\n",
       "      <td>0.598672</td>\n",
       "      <td>0.701746</td>\n",
       "      <td>0.578690</td>\n",
       "      <td>0.762169</td>\n",
       "    </tr>\n",
       "  </tbody>\n",
       "</table>\n",
       "</div>"
      ],
      "text/plain": [
       "                 Model  F1_Score  Precision    Recall  Accuracy\n",
       "0          Naive Bayes  0.477321   0.547113  0.487548  0.702189\n",
       "1  K-Nearest Neighbors  0.584479   0.626050  0.569252  0.734560\n",
       "2                  SVM  0.521556   0.673769  0.515501  0.724050\n",
       "3                  MLP  0.561151   0.624019  0.548529  0.732492\n",
       "4        Decision Tree  0.582584   0.581183  0.584202  0.701852\n",
       "5          Extra Trees  0.634218   0.673080  0.615724  0.764382\n",
       "6        Random Forest  0.626616   0.688646  0.605635  0.770803\n",
       "7              XGBoost  0.598672   0.701746  0.578690  0.762169"
      ]
     },
     "execution_count": 18,
     "metadata": {},
     "output_type": "execute_result"
    }
   ],
   "source": [
    "scores_df"
   ]
  },
  {
   "cell_type": "code",
   "execution_count": 30,
   "metadata": {},
   "outputs": [
    {
     "data": {
      "text/html": [
       "<style>#sk-container-id-2 {color: black;background-color: white;}#sk-container-id-2 pre{padding: 0;}#sk-container-id-2 div.sk-toggleable {background-color: white;}#sk-container-id-2 label.sk-toggleable__label {cursor: pointer;display: block;width: 100%;margin-bottom: 0;padding: 0.3em;box-sizing: border-box;text-align: center;}#sk-container-id-2 label.sk-toggleable__label-arrow:before {content: \"▸\";float: left;margin-right: 0.25em;color: #696969;}#sk-container-id-2 label.sk-toggleable__label-arrow:hover:before {color: black;}#sk-container-id-2 div.sk-estimator:hover label.sk-toggleable__label-arrow:before {color: black;}#sk-container-id-2 div.sk-toggleable__content {max-height: 0;max-width: 0;overflow: hidden;text-align: left;background-color: #f0f8ff;}#sk-container-id-2 div.sk-toggleable__content pre {margin: 0.2em;color: black;border-radius: 0.25em;background-color: #f0f8ff;}#sk-container-id-2 input.sk-toggleable__control:checked~div.sk-toggleable__content {max-height: 200px;max-width: 100%;overflow: auto;}#sk-container-id-2 input.sk-toggleable__control:checked~label.sk-toggleable__label-arrow:before {content: \"▾\";}#sk-container-id-2 div.sk-estimator input.sk-toggleable__control:checked~label.sk-toggleable__label {background-color: #d4ebff;}#sk-container-id-2 div.sk-label input.sk-toggleable__control:checked~label.sk-toggleable__label {background-color: #d4ebff;}#sk-container-id-2 input.sk-hidden--visually {border: 0;clip: rect(1px 1px 1px 1px);clip: rect(1px, 1px, 1px, 1px);height: 1px;margin: -1px;overflow: hidden;padding: 0;position: absolute;width: 1px;}#sk-container-id-2 div.sk-estimator {font-family: monospace;background-color: #f0f8ff;border: 1px dotted black;border-radius: 0.25em;box-sizing: border-box;margin-bottom: 0.5em;}#sk-container-id-2 div.sk-estimator:hover {background-color: #d4ebff;}#sk-container-id-2 div.sk-parallel-item::after {content: \"\";width: 100%;border-bottom: 1px solid gray;flex-grow: 1;}#sk-container-id-2 div.sk-label:hover label.sk-toggleable__label {background-color: #d4ebff;}#sk-container-id-2 div.sk-serial::before {content: \"\";position: absolute;border-left: 1px solid gray;box-sizing: border-box;top: 0;bottom: 0;left: 50%;z-index: 0;}#sk-container-id-2 div.sk-serial {display: flex;flex-direction: column;align-items: center;background-color: white;padding-right: 0.2em;padding-left: 0.2em;position: relative;}#sk-container-id-2 div.sk-item {position: relative;z-index: 1;}#sk-container-id-2 div.sk-parallel {display: flex;align-items: stretch;justify-content: center;background-color: white;position: relative;}#sk-container-id-2 div.sk-item::before, #sk-container-id-2 div.sk-parallel-item::before {content: \"\";position: absolute;border-left: 1px solid gray;box-sizing: border-box;top: 0;bottom: 0;left: 50%;z-index: -1;}#sk-container-id-2 div.sk-parallel-item {display: flex;flex-direction: column;z-index: 1;position: relative;background-color: white;}#sk-container-id-2 div.sk-parallel-item:first-child::after {align-self: flex-end;width: 50%;}#sk-container-id-2 div.sk-parallel-item:last-child::after {align-self: flex-start;width: 50%;}#sk-container-id-2 div.sk-parallel-item:only-child::after {width: 0;}#sk-container-id-2 div.sk-dashed-wrapped {border: 1px dashed gray;margin: 0 0.4em 0.5em 0.4em;box-sizing: border-box;padding-bottom: 0.4em;background-color: white;}#sk-container-id-2 div.sk-label label {font-family: monospace;font-weight: bold;display: inline-block;line-height: 1.2em;}#sk-container-id-2 div.sk-label-container {text-align: center;}#sk-container-id-2 div.sk-container {/* jupyter's `normalize.less` sets `[hidden] { display: none; }` but bootstrap.min.css set `[hidden] { display: none !important; }` so we also need the `!important` here to be able to override the default hidden behavior on the sphinx rendered scikit-learn.org. See: https://github.com/scikit-learn/scikit-learn/issues/21755 */display: inline-block !important;position: relative;}#sk-container-id-2 div.sk-text-repr-fallback {display: none;}</style><div id=\"sk-container-id-2\" class=\"sk-top-container\"><div class=\"sk-text-repr-fallback\"><pre>Pipeline(steps=[(&#x27;scaler&#x27;, StandardScaler()),\n",
       "                (&#x27;classifier&#x27;, RandomForestClassifier(random_state=1000))])</pre><b>In a Jupyter environment, please rerun this cell to show the HTML representation or trust the notebook. <br />On GitHub, the HTML representation is unable to render, please try loading this page with nbviewer.org.</b></div><div class=\"sk-container\" hidden><div class=\"sk-item sk-dashed-wrapped\"><div class=\"sk-label-container\"><div class=\"sk-label sk-toggleable\"><input class=\"sk-toggleable__control sk-hidden--visually\" id=\"sk-estimator-id-4\" type=\"checkbox\" ><label for=\"sk-estimator-id-4\" class=\"sk-toggleable__label sk-toggleable__label-arrow\">Pipeline</label><div class=\"sk-toggleable__content\"><pre>Pipeline(steps=[(&#x27;scaler&#x27;, StandardScaler()),\n",
       "                (&#x27;classifier&#x27;, RandomForestClassifier(random_state=1000))])</pre></div></div></div><div class=\"sk-serial\"><div class=\"sk-item\"><div class=\"sk-estimator sk-toggleable\"><input class=\"sk-toggleable__control sk-hidden--visually\" id=\"sk-estimator-id-5\" type=\"checkbox\" ><label for=\"sk-estimator-id-5\" class=\"sk-toggleable__label sk-toggleable__label-arrow\">StandardScaler</label><div class=\"sk-toggleable__content\"><pre>StandardScaler()</pre></div></div></div><div class=\"sk-item\"><div class=\"sk-estimator sk-toggleable\"><input class=\"sk-toggleable__control sk-hidden--visually\" id=\"sk-estimator-id-6\" type=\"checkbox\" ><label for=\"sk-estimator-id-6\" class=\"sk-toggleable__label sk-toggleable__label-arrow\">RandomForestClassifier</label><div class=\"sk-toggleable__content\"><pre>RandomForestClassifier(random_state=1000)</pre></div></div></div></div></div></div></div>"
      ],
      "text/plain": [
       "Pipeline(steps=[('scaler', StandardScaler()),\n",
       "                ('classifier', RandomForestClassifier(random_state=1000))])"
      ]
     },
     "execution_count": 30,
     "metadata": {},
     "output_type": "execute_result"
    }
   ],
   "source": [
    "pipelines[indice_mejor.values[0]]"
   ]
  },
  {
   "cell_type": "code",
   "execution_count": 31,
   "metadata": {},
   "outputs": [
    {
     "name": "stdout",
     "output_type": "stream",
     "text": [
      "mejor resultado en 6    Random Forest\n",
      "Name: Model, dtype: object\n"
     ]
    }
   ],
   "source": [
    "# Preparamos salida.\n",
    "indice_mejor=scores_df[['Accuracy']].idxmax()\n",
    "print(f\"mejor resultado en {scores_df['Model'][indice_mejor]}\")\n",
    "salida_prediccion=pipelines[indice_mejor.values[0]].predict(X_real_test)"
   ]
  },
  {
   "cell_type": "code",
   "execution_count": 32,
   "metadata": {},
   "outputs": [],
   "source": [
    "df_xtest_three[\"respuesta\"]=salida_prediccion\n",
    "df_xtest_three[\"status_group\"]=df_xtest_three[\"respuesta\"].replace([0, 1,2],['functional', 'functional needs repair','non functional'])\n"
   ]
  },
  {
   "cell_type": "code",
   "execution_count": 96,
   "metadata": {},
   "outputs": [],
   "source": [
    "# escribe respuesta\n",
    "#df_xtest_three['status_group'].to_csv('datos/'+'respuesta2.csv') Su modelo tenía una puntuación de 0.77"
   ]
  },
  {
   "cell_type": "code",
   "execution_count": 33,
   "metadata": {},
   "outputs": [
    {
     "name": "stdout",
     "output_type": "stream",
     "text": [
      "Aquí escribiría datos/respuesta3.csv\n"
     ]
    }
   ],
   "source": [
    "\n",
    "from pathlib import Path\n",
    "ruta='datos/'\n",
    "nom='respuesta'\n",
    "num=3\n",
    "converted_num = \"{}\".format(num)\n",
    "file=ruta+nom+converted_num+'.csv'\n",
    "escrito=False\n",
    "num=1\n",
    "while escrito==False:\n",
    "    converted_num = \"{}\".format(num)\n",
    "    file=ruta+nom+converted_num+'.csv'\n",
    "    path=Path(file)\n",
    "    if path.is_file():\n",
    "        num=num+1\n",
    "        if num==100:\n",
    "            escrito=False\n",
    "            print(\"algo falla en el bucle\")\n",
    "    else:\n",
    "        print(f\"Aquí escribiría {file}\")\n",
    "        df_xtest_three['status_group'].to_csv(file) \n",
    "        escrito=True\n",
    "\n",
    "\n",
    "\n",
    "\n"
   ]
  }
 ],
 "metadata": {
  "kernelspec": {
   "display_name": "Python 3.9.13 64-bit (windows store)",
   "language": "python",
   "name": "python3"
  },
  "language_info": {
   "codemirror_mode": {
    "name": "ipython",
    "version": 3
   },
   "file_extension": ".py",
   "mimetype": "text/x-python",
   "name": "python",
   "nbconvert_exporter": "python",
   "pygments_lexer": "ipython3",
   "version": "3.9.13"
  },
  "orig_nbformat": 4,
  "vscode": {
   "interpreter": {
    "hash": "df2f563f9405832242b2cc9971b3350a36eba2cefa78a66d80eae6dbc2791b83"
   }
  }
 },
 "nbformat": 4,
 "nbformat_minor": 2
}
