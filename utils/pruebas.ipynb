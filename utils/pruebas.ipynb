{
 "cells": [
  {
   "cell_type": "code",
   "execution_count": 1,
   "metadata": {},
   "outputs": [],
   "source": [
    "import pandas as pd\n",
    "import numpy as np\n",
    "import scipy\n",
    "\n"
   ]
  },
  {
   "cell_type": "code",
   "execution_count": 2,
   "metadata": {},
   "outputs": [
    {
     "name": "stdout",
     "output_type": "stream",
     "text": [
      "0.6701050018619558\n",
      "0.2109054949584208\n",
      "0.21638958439852585\n",
      "0.3221471396465013\n",
      "0.9891613000559181\n",
      "0.030783199979844467\n",
      "0.10591177910331351\n",
      "0.9156200870645522\n",
      "0.7183046512255078\n",
      "0.8203339244352015\n",
      "0.5002951161730202\n",
      "0.5355732062481702\n",
      "0.4788388366944003\n",
      "0.9644457958913684\n",
      "0.865420164511276\n",
      "0.031819785157659264\n",
      "0.7847025344966757\n",
      "0.8983384333229929\n",
      "0.6519830889938186\n",
      "0.46540412178757395\n",
      "0.8018141518734246\n",
      "0.7548547962897099\n",
      "0.6633593997535919\n",
      "0.3652238426623149\n",
      "0.37908971756879983\n",
      "0.19325463748117078\n",
      "0.5495012419627952\n",
      "0.0049926013696690585\n",
      "0.23168848976418943\n",
      "0.8464187312464053\n",
      "0.7683713748809453\n",
      "0.5420927407622892\n",
      "0.2768133511264831\n",
      "0.5286334923158937\n",
      "0.7018630004252496\n",
      "0.4338618954908544\n",
      "0.5213716034770975\n",
      "0.798109486171906\n",
      "0.1888325912223966\n",
      "0.5925979689237736\n",
      "0.16896544831752847\n",
      "0.87656821319409\n",
      "0.19472492428319776\n",
      "0.9958990315376017\n",
      "0.7218838387681956\n",
      "0.027954686358015568\n",
      "0.4286317816629577\n",
      "0.8411461998778899\n",
      "0.025898475439751767\n",
      "0.6315765255342006\n",
      "0.5462967163958642\n",
      "0.254000052310541\n",
      "0.6394049526006272\n",
      "0.7677943060493576\n",
      "0.5893707672817591\n",
      "0.22911848765840348\n",
      "0.8349264555650263\n",
      "0.1481915622062222\n",
      "0.44817409074038295\n",
      "0.10435441171883675\n",
      "0.9037084305344165\n",
      "0.28534003551668197\n",
      "0.7360920626882622\n",
      "0.48973089484088184\n",
      "0.5779465895236301\n",
      "0.6397935100206564\n",
      "0.6126951644550127\n",
      "0.7155552858706251\n",
      "0.5712452119260932\n",
      "0.04524967735277419\n",
      "0.9871742370511652\n",
      "0.20822383988926751\n",
      "0.7436333171202167\n",
      "0.4253597241711802\n",
      "0.33321564444147234\n",
      "0.680202493525627\n",
      "0.030036462372365902\n",
      "0.2150556464458796\n",
      "0.9303946771348499\n",
      "0.6619430170299674\n",
      "0.6766852490368026\n",
      "0.6840467629877056\n",
      "0.4902491051706094\n",
      "0.30612453130280426\n",
      "0.2134719694633178\n",
      "0.9800559516920881\n",
      "0.17727254157807226\n",
      "0.10564543602385923\n",
      "0.48463452360947235\n",
      "0.4227841840374389\n",
      "0.9794681998608807\n",
      "0.535066362685734\n",
      "0.6681317050803556\n",
      "0.02138228263525288\n",
      "0.7493259479166919\n",
      "0.700539329188358\n",
      "0.9538280525382821\n",
      "0.8195168067514779\n",
      "0.16392873392976126\n",
      "0.1036419904303928\n"
     ]
    }
   ],
   "source": [
    "lugar=np.random.rand(100,2)\n",
    "for val in lugar:\n",
    "    print(val[0])"
   ]
  },
  {
   "cell_type": "code",
   "execution_count": 3,
   "metadata": {},
   "outputs": [
    {
     "data": {
      "text/plain": [
       "1.4142135623730951"
      ]
     },
     "execution_count": 3,
     "metadata": {},
     "output_type": "execute_result"
    }
   ],
   "source": [
    "np.linalg.norm(np.array((0,0)) - np.array((1,1)))"
   ]
  },
  {
   "cell_type": "code",
   "execution_count": 4,
   "metadata": {},
   "outputs": [
    {
     "name": "stdout",
     "output_type": "stream",
     "text": [
      "4\n"
     ]
    }
   ],
   "source": [
    "a=range(4,5)\n",
    "for e in a:\n",
    "    print(e)"
   ]
  },
  {
   "cell_type": "code",
   "execution_count": 5,
   "metadata": {},
   "outputs": [
    {
     "name": "stdout",
     "output_type": "stream",
     "text": [
      "0.6701050018619558\n",
      "0.7000388585465054\n"
     ]
    }
   ],
   "source": [
    "a,b=lugar[0]\n",
    "print(a)\n",
    "print(b)"
   ]
  },
  {
   "cell_type": "code",
   "execution_count": 6,
   "metadata": {},
   "outputs": [
    {
     "name": "stdout",
     "output_type": "stream",
     "text": [
      "          x         y      cercano\n",
      "0  0.885899  0.326065   445.256779\n",
      "1  0.310903  0.530169  1569.296702\n",
      "2  0.870690  0.613589   734.562390\n",
      "3  0.104280  0.977561  3077.672353\n",
      "4  0.895968  0.436125   445.256779\n",
      "5  0.428262  0.297614  1569.296702\n"
     ]
    }
   ],
   "source": [
    "def dist_cercano(lugar,tipo=\"euclidea\",verbose=False):\n",
    "    dist_cerca=[]\n",
    "    r=6370\n",
    "    if tipo==\"euclidea\":\n",
    "        modo_tipo=1\n",
    "    elif tipo==\"gps\":\n",
    "        modo_tipo=2\n",
    "    else:\n",
    "        modo_tipo=3\n",
    "    if verbose:\n",
    "        cont=0\n",
    "        coc,res=divmod(cont,1e6)\n",
    "        if res==0:\n",
    "            print(cont)\n",
    "    if type(lugar)==pd.DataFrame:\n",
    "        lugar=lugar.values\n",
    "    for i in range(len(lugar)):\n",
    "\n",
    "        min=np.Inf\n",
    "        for j in range(len(lugar)):\n",
    "            \n",
    "            if i==j:\n",
    "                continue\n",
    "\n",
    "            if verbose:\n",
    "                cont = cont+1\n",
    "\n",
    "            if modo_tipo== 1: \n",
    "                dist=np.linalg.norm(lugar[i] - lugar[j])\n",
    "            elif modo_tipo== 2: \n",
    "                lat1,lon1=lugar[i]\n",
    "                lat2,lon2=lugar[j]\n",
    "                dlon = lon2 - lon1\n",
    "                dlat = lat2 - lat1\n",
    "                a = np.sin(dlat / 2)**2 + np.cos(lat1) * np.cos(lat2) * np.sin(dlon / 2)**2\n",
    "                c = 2 * np.arctan2(np.sqrt(a), np.sqrt(1-a))\n",
    "                dist= r*c\n",
    "            else:print(\"la variable tipo debe ser o euclidea o gps\")\n",
    "            \n",
    "            if dist < min:\n",
    "                min=dist\n",
    "        dist_cerca.append(min)\n",
    "    return(dist_cerca)\n",
    "\n",
    "lugar=np.random.rand(6,2)\n",
    "datos=pd.DataFrame(lugar,columns=[\"x\",\"y\"]) \n",
    "datos[\"cercano\"]=dist_cercano(datos[[\"x\",\"y\"]],\"gps\")\n",
    "# print(lugar)\n",
    "print(datos)"
   ]
  },
  {
   "cell_type": "code",
   "execution_count": 7,
   "metadata": {},
   "outputs": [],
   "source": [
    "minimo=5\n",
    "maximo=9"
   ]
  },
  {
   "cell_type": "code",
   "execution_count": 8,
   "metadata": {},
   "outputs": [
    {
     "data": {
      "text/plain": [
       "array([[7.6710895 , 5.01932594, 5.32015988],\n",
       "       [6.69829133, 5.75228164, 6.6778769 ]])"
      ]
     },
     "execution_count": 8,
     "metadata": {},
     "output_type": "execute_result"
    }
   ],
   "source": [
    "np.random.random_sample(size=(2,3))*(maximo-minimo)+np.ones((2,3))*minimo"
   ]
  },
  {
   "cell_type": "code",
   "execution_count": 9,
   "metadata": {},
   "outputs": [
    {
     "data": {
      "text/html": [
       "<div>\n",
       "<style scoped>\n",
       "    .dataframe tbody tr th:only-of-type {\n",
       "        vertical-align: middle;\n",
       "    }\n",
       "\n",
       "    .dataframe tbody tr th {\n",
       "        vertical-align: top;\n",
       "    }\n",
       "\n",
       "    .dataframe thead th {\n",
       "        text-align: right;\n",
       "    }\n",
       "</style>\n",
       "<table border=\"1\" class=\"dataframe\">\n",
       "  <thead>\n",
       "    <tr style=\"text-align: right;\">\n",
       "      <th></th>\n",
       "      <th>valor</th>\n",
       "    </tr>\n",
       "  </thead>\n",
       "  <tbody>\n",
       "    <tr>\n",
       "      <th>1</th>\n",
       "      <td>0</td>\n",
       "    </tr>\n",
       "    <tr>\n",
       "      <th>2</th>\n",
       "      <td>1</td>\n",
       "    </tr>\n",
       "    <tr>\n",
       "      <th>3</th>\n",
       "      <td>2</td>\n",
       "    </tr>\n",
       "    <tr>\n",
       "      <th>4</th>\n",
       "      <td>3</td>\n",
       "    </tr>\n",
       "    <tr>\n",
       "      <th>5</th>\n",
       "      <td>4</td>\n",
       "    </tr>\n",
       "    <tr>\n",
       "      <th>6</th>\n",
       "      <td>5</td>\n",
       "    </tr>\n",
       "  </tbody>\n",
       "</table>\n",
       "</div>"
      ],
      "text/plain": [
       "   valor\n",
       "1      0\n",
       "2      1\n",
       "3      2\n",
       "4      3\n",
       "5      4\n",
       "6      5"
      ]
     },
     "execution_count": 9,
     "metadata": {},
     "output_type": "execute_result"
    }
   ],
   "source": [
    "indice1=[1,2,3,4,5,6]\n",
    "col1=[0,1,2,3,4,5]\n",
    "df1=pd.DataFrame(data=col1,index=indice1,columns=['valor'])\n",
    "df1"
   ]
  },
  {
   "cell_type": "code",
   "execution_count": 10,
   "metadata": {},
   "outputs": [
    {
     "data": {
      "text/html": [
       "<div>\n",
       "<style scoped>\n",
       "    .dataframe tbody tr th:only-of-type {\n",
       "        vertical-align: middle;\n",
       "    }\n",
       "\n",
       "    .dataframe tbody tr th {\n",
       "        vertical-align: top;\n",
       "    }\n",
       "\n",
       "    .dataframe thead th {\n",
       "        text-align: right;\n",
       "    }\n",
       "</style>\n",
       "<table border=\"1\" class=\"dataframe\">\n",
       "  <thead>\n",
       "    <tr style=\"text-align: right;\">\n",
       "      <th></th>\n",
       "      <th>valor</th>\n",
       "    </tr>\n",
       "  </thead>\n",
       "  <tbody>\n",
       "    <tr>\n",
       "      <th>1</th>\n",
       "      <td>50</td>\n",
       "    </tr>\n",
       "    <tr>\n",
       "      <th>3</th>\n",
       "      <td>80</td>\n",
       "    </tr>\n",
       "    <tr>\n",
       "      <th>5</th>\n",
       "      <td>100</td>\n",
       "    </tr>\n",
       "  </tbody>\n",
       "</table>\n",
       "</div>"
      ],
      "text/plain": [
       "   valor\n",
       "1     50\n",
       "3     80\n",
       "5    100"
      ]
     },
     "execution_count": 10,
     "metadata": {},
     "output_type": "execute_result"
    }
   ],
   "source": [
    "indice2=[1,3,5]\n",
    "col2=[50,80,100]\n",
    "df2=pd.DataFrame(data=col2,index=indice2,columns=['valor'])\n",
    "df2"
   ]
  },
  {
   "cell_type": "code",
   "execution_count": 11,
   "metadata": {},
   "outputs": [
    {
     "data": {
      "text/html": [
       "<div>\n",
       "<style scoped>\n",
       "    .dataframe tbody tr th:only-of-type {\n",
       "        vertical-align: middle;\n",
       "    }\n",
       "\n",
       "    .dataframe tbody tr th {\n",
       "        vertical-align: top;\n",
       "    }\n",
       "\n",
       "    .dataframe thead th {\n",
       "        text-align: right;\n",
       "    }\n",
       "</style>\n",
       "<table border=\"1\" class=\"dataframe\">\n",
       "  <thead>\n",
       "    <tr style=\"text-align: right;\">\n",
       "      <th></th>\n",
       "      <th>valor</th>\n",
       "    </tr>\n",
       "  </thead>\n",
       "  <tbody>\n",
       "    <tr>\n",
       "      <th>1</th>\n",
       "      <td>50</td>\n",
       "    </tr>\n",
       "    <tr>\n",
       "      <th>2</th>\n",
       "      <td>1</td>\n",
       "    </tr>\n",
       "    <tr>\n",
       "      <th>3</th>\n",
       "      <td>80</td>\n",
       "    </tr>\n",
       "    <tr>\n",
       "      <th>4</th>\n",
       "      <td>3</td>\n",
       "    </tr>\n",
       "    <tr>\n",
       "      <th>5</th>\n",
       "      <td>100</td>\n",
       "    </tr>\n",
       "    <tr>\n",
       "      <th>6</th>\n",
       "      <td>5</td>\n",
       "    </tr>\n",
       "  </tbody>\n",
       "</table>\n",
       "</div>"
      ],
      "text/plain": [
       "   valor\n",
       "1     50\n",
       "2      1\n",
       "3     80\n",
       "4      3\n",
       "5    100\n",
       "6      5"
      ]
     },
     "execution_count": 11,
     "metadata": {},
     "output_type": "execute_result"
    }
   ],
   "source": [
    "df3=df1\n",
    "df3.loc[df2.index, ['valor']]=df2['valor']\n",
    "df3"
   ]
  },
  {
   "cell_type": "code",
   "execution_count": 18,
   "metadata": {},
   "outputs": [
    {
     "data": {
      "text/html": [
       "<div>\n",
       "<style scoped>\n",
       "    .dataframe tbody tr th:only-of-type {\n",
       "        vertical-align: middle;\n",
       "    }\n",
       "\n",
       "    .dataframe tbody tr th {\n",
       "        vertical-align: top;\n",
       "    }\n",
       "\n",
       "    .dataframe thead th {\n",
       "        text-align: right;\n",
       "    }\n",
       "</style>\n",
       "<table border=\"1\" class=\"dataframe\">\n",
       "  <thead>\n",
       "    <tr style=\"text-align: right;\">\n",
       "      <th></th>\n",
       "      <th>A_a</th>\n",
       "      <th>A_b</th>\n",
       "    </tr>\n",
       "  </thead>\n",
       "  <tbody>\n",
       "    <tr>\n",
       "      <th>0</th>\n",
       "      <td>1</td>\n",
       "      <td>0</td>\n",
       "    </tr>\n",
       "    <tr>\n",
       "      <th>1</th>\n",
       "      <td>0</td>\n",
       "      <td>1</td>\n",
       "    </tr>\n",
       "    <tr>\n",
       "      <th>2</th>\n",
       "      <td>1</td>\n",
       "      <td>0</td>\n",
       "    </tr>\n",
       "  </tbody>\n",
       "</table>\n",
       "</div>"
      ],
      "text/plain": [
       "   A_a  A_b\n",
       "0    1    0\n",
       "1    0    1\n",
       "2    1    0"
      ]
     },
     "execution_count": 18,
     "metadata": {},
     "output_type": "execute_result"
    }
   ],
   "source": [
    "# dummies\n",
    "\n",
    "s = pd.DataFrame({'A': ['a', 'b', 'a'], 'B': ['b', 'a', 'c']})\n",
    "pd.get_dummies(s.A,prefix='A')"
   ]
  },
  {
   "cell_type": "code",
   "execution_count": 9,
   "metadata": {},
   "outputs": [
    {
     "data": {
      "text/plain": [
       "[0.0, 0.0, 0.0, 0.0, 1.0]"
      ]
     },
     "execution_count": 9,
     "metadata": {},
     "output_type": "execute_result"
    }
   ],
   "source": [
    "import numpy as np\n",
    "lista=np.zeros(4)\n",
    "lista=lista.tolist()\n",
    "lista.append(1.0)\n",
    "lista"
   ]
  },
  {
   "cell_type": "code",
   "execution_count": 10,
   "metadata": {},
   "outputs": [
    {
     "data": {
      "text/plain": [
       "9"
      ]
     },
     "execution_count": 10,
     "metadata": {},
     "output_type": "execute_result"
    }
   ],
   "source": [
    "np.power(3,2)"
   ]
  },
  {
   "cell_type": "code",
   "execution_count": 4,
   "metadata": {},
   "outputs": [
    {
     "data": {
      "text/html": [
       "<div>\n",
       "<style scoped>\n",
       "    .dataframe tbody tr th:only-of-type {\n",
       "        vertical-align: middle;\n",
       "    }\n",
       "\n",
       "    .dataframe tbody tr th {\n",
       "        vertical-align: top;\n",
       "    }\n",
       "\n",
       "    .dataframe thead th {\n",
       "        text-align: right;\n",
       "    }\n",
       "</style>\n",
       "<table border=\"1\" class=\"dataframe\">\n",
       "  <thead>\n",
       "    <tr style=\"text-align: right;\">\n",
       "      <th></th>\n",
       "    </tr>\n",
       "  </thead>\n",
       "  <tbody>\n",
       "    <tr>\n",
       "      <th>1</th>\n",
       "    </tr>\n",
       "    <tr>\n",
       "      <th>2</th>\n",
       "    </tr>\n",
       "    <tr>\n",
       "      <th>3</th>\n",
       "    </tr>\n",
       "  </tbody>\n",
       "</table>\n",
       "</div>"
      ],
      "text/plain": [
       "Empty DataFrame\n",
       "Columns: []\n",
       "Index: [1, 2, 3]"
      ]
     },
     "execution_count": 4,
     "metadata": {},
     "output_type": "execute_result"
    }
   ],
   "source": [
    "import pandas as pd\n",
    "s = pd.DataFrame({'A': ['a1', 'a2', 'a3'], 'B': ['b1', 'b2', 'b2'],'C': ['c1', 'c2', 'c3']},index=[1,2,3])\n",
    "b=pd.DataFrame(index=s.index)\n",
    "b"
   ]
  },
  {
   "cell_type": "code",
   "execution_count": 8,
   "metadata": {},
   "outputs": [
    {
     "name": "stdout",
     "output_type": "stream",
     "text": [
      "    A   B   C\n",
      "1  a1  b1  c1\n",
      "2  a2  b2  c2\n",
      "3  a3  b2  c3\n",
      "    A   B   C\n",
      "0  a1  b1  c1\n",
      "1  a2  b2  c2\n",
      "2  a3  b2  c3\n",
      "3  A1  B1  C1\n",
      "4  A2  B2  C2\n",
      "5  A3  B2  C3\n",
      "['c1' 'c2' 'c3' 'C1' 'C2' 'C3']\n"
     ]
    }
   ],
   "source": [
    "import pandas as p\n",
    "s = pd.DataFrame({'A': ['a1', 'a2', 'a3'], 'B': ['b1', 'b2', 'b2'],'C': ['c1', 'c2', 'c3']},index=[1,2,3])\n",
    "b = pd.DataFrame({'A': ['A1', 'A2', 'A3'], 'B': ['B1', 'B2', 'B2'],'C': ['C1', 'C2', 'C3']},index=[1,2,3])\n",
    "print(s)\n",
    "s=s.merge(b,how='outer')\n",
    "print(s)\n",
    "s=s.values[:,2]\n",
    "print(s)\n",
    "\n",
    "\n",
    "\n",
    "\n"
   ]
  },
  {
   "cell_type": "code",
   "execution_count": 12,
   "metadata": {},
   "outputs": [
    {
     "name": "stdout",
     "output_type": "stream",
     "text": [
      "aplicamos dummies\n",
      "columna: B\n",
      "columna: C\n"
     ]
    },
    {
     "data": {
      "text/html": [
       "<div>\n",
       "<style scoped>\n",
       "    .dataframe tbody tr th:only-of-type {\n",
       "        vertical-align: middle;\n",
       "    }\n",
       "\n",
       "    .dataframe tbody tr th {\n",
       "        vertical-align: top;\n",
       "    }\n",
       "\n",
       "    .dataframe thead th {\n",
       "        text-align: right;\n",
       "    }\n",
       "</style>\n",
       "<table border=\"1\" class=\"dataframe\">\n",
       "  <thead>\n",
       "    <tr style=\"text-align: right;\">\n",
       "      <th></th>\n",
       "      <th>A</th>\n",
       "      <th>B_b1</th>\n",
       "      <th>B_b2</th>\n",
       "      <th>C_c1</th>\n",
       "      <th>C_c2</th>\n",
       "    </tr>\n",
       "  </thead>\n",
       "  <tbody>\n",
       "    <tr>\n",
       "      <th>1</th>\n",
       "      <td>a1</td>\n",
       "      <td>1</td>\n",
       "      <td>0</td>\n",
       "      <td>1</td>\n",
       "      <td>0</td>\n",
       "    </tr>\n",
       "    <tr>\n",
       "      <th>2</th>\n",
       "      <td>a2</td>\n",
       "      <td>0</td>\n",
       "      <td>1</td>\n",
       "      <td>1</td>\n",
       "      <td>0</td>\n",
       "    </tr>\n",
       "    <tr>\n",
       "      <th>3</th>\n",
       "      <td>a3</td>\n",
       "      <td>0</td>\n",
       "      <td>1</td>\n",
       "      <td>0</td>\n",
       "      <td>1</td>\n",
       "    </tr>\n",
       "  </tbody>\n",
       "</table>\n",
       "</div>"
      ],
      "text/plain": [
       "    A  B_b1  B_b2  C_c1  C_c2\n",
       "1  a1     1     0     1     0\n",
       "2  a2     0     1     1     0\n",
       "3  a3     0     1     0     1"
      ]
     },
     "execution_count": 12,
     "metadata": {},
     "output_type": "execute_result"
    }
   ],
   "source": [
    "def aplica_dummies(df,lista_categoricas):\n",
    "    print(\"aplicamos dummies\") \n",
    "    if lista_categoricas!=[]:\n",
    "        dummies=pd.DataFrame(index=df.index)\n",
    "        for columna in lista_categoricas:\n",
    "            print(f\"columna: {columna}\")\n",
    "            dummi=pd.get_dummies(df[columna],prefix=columna)\n",
    "            dummies=dummies.join(dummi)\n",
    "        df_dm=df\n",
    "        df_dm.drop(columns=lista_categoricas,inplace=True)\n",
    "        df_dm=df_dm.join(dummies)\n",
    "    else:\n",
    "        df_dm=df\n",
    "    return df_dm\n",
    "\n",
    "s = pd.DataFrame({'A': ['a1', 'a2', 'a3'], 'B': ['b1', 'b2', 'b2'],'C': ['c1', 'c1', 'c2']},index=[1,2,3])\n",
    "aplica_dummies(s,['B','C'])"
   ]
  },
  {
   "cell_type": "code",
   "execution_count": 4,
   "metadata": {},
   "outputs": [
    {
     "data": {
      "text/plain": [
       "['mean_fit_time',\n",
       " 'mean_score_time',\n",
       " 'mean_test_score',\n",
       " 'param_C',\n",
       " 'param_kernel',\n",
       " 'params',\n",
       " 'rank_test_score',\n",
       " 'split0_test_score',\n",
       " 'split1_test_score',\n",
       " 'split2_test_score',\n",
       " 'split3_test_score',\n",
       " 'split4_test_score',\n",
       " 'std_fit_time',\n",
       " 'std_score_time',\n",
       " 'std_test_score']"
      ]
     },
     "execution_count": 4,
     "metadata": {},
     "output_type": "execute_result"
    }
   ],
   "source": [
    "from sklearn import svm, datasets\n",
    "from sklearn.model_selection import GridSearchCV\n",
    "iris = datasets.load_iris()\n",
    "parameters = {'kernel':('linear', 'rbf'), 'C':[1, 10]}\n",
    "svc = svm.SVC()\n",
    "clf = GridSearchCV(svc, parameters)\n",
    "clf.fit(iris.data, iris.target)\n",
    "GridSearchCV(estimator=svc,\n",
    "             param_grid={'C': [1, 10], 'kernel': ('linear', 'rbf')})\n",
    "sorted(clf.cv_results_.keys())\n"
   ]
  },
  {
   "cell_type": "code",
   "execution_count": 6,
   "metadata": {},
   "outputs": [
    {
     "data": {
      "text/plain": [
       "{'C': [1, 10], 'kernel': ('linear', 'rbf')}"
      ]
     },
     "execution_count": 6,
     "metadata": {},
     "output_type": "execute_result"
    }
   ],
   "source": [
    "param_grid={'C': [1, 10], 'kernel': ('linear', 'rbf')}\n",
    "param_grid"
   ]
  },
  {
   "cell_type": "code",
   "execution_count": null,
   "metadata": {},
   "outputs": [],
   "source": [
    "{'C': [1, 10], 'kernel': ('linear', 'rbf')}\n",
    "{'n_estimators': [100.0, 200.0, 300.0, 400.0, 500.0, 600.0, 700.0, 800.0, 900.0]}"
   ]
  }
 ],
 "metadata": {
  "kernelspec": {
   "display_name": "Python 3.9.13 64-bit (windows store)",
   "language": "python",
   "name": "python3"
  },
  "language_info": {
   "codemirror_mode": {
    "name": "ipython",
    "version": 3
   },
   "file_extension": ".py",
   "mimetype": "text/x-python",
   "name": "python",
   "nbconvert_exporter": "python",
   "pygments_lexer": "ipython3",
   "version": "3.9.13"
  },
  "orig_nbformat": 4,
  "vscode": {
   "interpreter": {
    "hash": "df2f563f9405832242b2cc9971b3350a36eba2cefa78a66d80eae6dbc2791b83"
   }
  }
 },
 "nbformat": 4,
 "nbformat_minor": 2
}
