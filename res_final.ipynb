{
 "cells": [
  {
   "cell_type": "code",
   "execution_count": 1,
   "metadata": {},
   "outputs": [
    {
     "name": "stderr",
     "output_type": "stream",
     "text": [
      "C:\\Users\\Rucufuto\\AppData\\Local\\Packages\\PythonSoftwareFoundation.Python.3.9_qbz5n2kfra8p0\\LocalCache\\local-packages\\Python39\\site-packages\\pandas\\core\\indexing.py:1732: SettingWithCopyWarning: \n",
      "A value is trying to be set on a copy of a slice from a DataFrame\n",
      "\n",
      "See the caveats in the documentation: https://pandas.pydata.org/pandas-docs/stable/user_guide/indexing.html#returning-a-view-versus-a-copy\n",
      "  self._setitem_single_block(indexer, value, name)\n",
      "C:\\Users\\Rucufuto\\AppData\\Local\\Packages\\PythonSoftwareFoundation.Python.3.9_qbz5n2kfra8p0\\LocalCache\\local-packages\\Python39\\site-packages\\pandas\\core\\indexing.py:1965: SettingWithCopyWarning: \n",
      "A value is trying to be set on a copy of a slice from a DataFrame\n",
      "\n",
      "See the caveats in the documentation: https://pandas.pydata.org/pandas-docs/stable/user_guide/indexing.html#returning-a-view-versus-a-copy\n",
      "  self.obj._check_is_chained_assignment_possible()\n"
     ]
    },
    {
     "name": "stdout",
     "output_type": "stream",
     "text": [
      "archivo de datos train gps encontrado\n",
      "leyendo de datos/df_train_one_gps.pkl\n",
      "archivo de datos xtest gps encontrado\n",
      "leyendo de datos/df_xtest_prueba.pkl\n",
      "aplicamos dummies a df_train\n",
      "aplicamos dummies\n",
      "columna: quantity_group\n",
      "columna: extraction_type_class\n",
      "columna: waterpoint_type\n",
      "aplicamos dummies a df_xtest\n",
      "aplicamos dummies\n",
      "columna: quantity_group\n",
      "columna: extraction_type_class\n",
      "columna: waterpoint_type\n",
      "ambos conseguidos\n"
     ]
    }
   ],
   "source": [
    "# Includes básicos\n",
    "\n",
    "import pandas as pd\n",
    "import datetime as dt\n",
    "from utils.funciones import *\n",
    "import joblib\n",
    "from pathlib import Path\n",
    "from sklearn.model_selection import train_test_split\n",
    "from sklearn.pipeline import make_pipeline\n",
    "from sklearn.metrics import accuracy_score\n",
    "from sklearn.metrics import f1_score\n",
    "from sklearn.metrics import recall_score\n",
    "from sklearn.metrics import precision_score\n",
    "from sklearn.preprocessing import StandardScaler\n",
    "from sklearn.tree import DecisionTreeClassifier\n",
    "from sklearn.ensemble import RandomForestClassifier\n",
    "from xgboost import XGBClassifier\n",
    "from sklearn.pipeline import Pipeline\n",
    "from sklearn.model_selection import GridSearchCV\n",
    "\n",
    "\n",
    "X_ruta='x_test_data_ejemplo.csv'\n",
    "y_train_ruta='y_train_data.csv'\n",
    "x_train_ruta='x_train_data.csv'\n",
    "carpeta_datos='datos/'\n",
    "modelo_ruta='pipes6.z'\n",
    "ruta_results='results/'\n",
    "nombre_salida='resultados_prueba.csv'\n",
    "df_scores_ruta='scores_df_pipes6.z'\n",
    "\n",
    "df_xtest=transforma_X(X_ruta=X_ruta,y_train_ruta=y_train_ruta,x_train_ruta=x_train_ruta,carpeta_datos=carpeta_datos)\n",
    "\n",
    "salida=predice_X(df_xtest_three=df_xtest,modelo_ruta=modelo_ruta,df_scores_ruta=df_scores_ruta,ruta_results=ruta_results,nombre_salida=nombre_salida)\n",
    "\n"
   ]
  },
  {
   "cell_type": "code",
   "execution_count": 2,
   "metadata": {},
   "outputs": [
    {
     "data": {
      "text/plain": [
       "id\n",
       "50785    non functional\n",
       "51630        functional\n",
       "17168    non functional\n",
       "45559    non functional\n",
       "49871        functional\n",
       "52449        functional\n",
       "24806        functional\n",
       "28965    non functional\n",
       "36301    non functional\n",
       "54122        functional\n",
       "419          functional\n",
       "45750    non functional\n",
       "653      non functional\n",
       "14017    non functional\n",
       "Name: status_group, dtype: object"
      ]
     },
     "execution_count": 2,
     "metadata": {},
     "output_type": "execute_result"
    }
   ],
   "source": [
    "salida"
   ]
  }
 ],
 "metadata": {
  "kernelspec": {
   "display_name": "Python 3.9.13 64-bit (windows store)",
   "language": "python",
   "name": "python3"
  },
  "language_info": {
   "codemirror_mode": {
    "name": "ipython",
    "version": 3
   },
   "file_extension": ".py",
   "mimetype": "text/x-python",
   "name": "python",
   "nbconvert_exporter": "python",
   "pygments_lexer": "ipython3",
   "version": "3.9.13"
  },
  "orig_nbformat": 4,
  "vscode": {
   "interpreter": {
    "hash": "df2f563f9405832242b2cc9971b3350a36eba2cefa78a66d80eae6dbc2791b83"
   }
  }
 },
 "nbformat": 4,
 "nbformat_minor": 2
}
